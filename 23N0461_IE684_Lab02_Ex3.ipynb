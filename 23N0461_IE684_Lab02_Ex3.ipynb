{
  "nbformat": 4,
  "nbformat_minor": 0,
  "metadata": {
    "colab": {
      "provenance": []
    },
    "kernelspec": {
      "name": "python3",
      "display_name": "Python 3"
    },
    "language_info": {
      "name": "python"
    }
  },
  "cells": [
    {
      "cell_type": "markdown",
      "source": [
        "$\\textbf{1.}$ What is the minimizer and minimum function value of f(x) and g(x) ? Are both the function convex ? Explain"
      ],
      "metadata": {
        "id": "wdPSk76aprEU"
      }
    },
    {
      "cell_type": "markdown",
      "source": [
        "\n",
        "\n",
        "$\\textbf{ Function f(x)}$\n",
        "\n",
        "The function is given by:\n",
        "$ f(x) = x_1^2 + x_2^2 + 9 $\n",
        "\n",
        "$\\nabla f(x) = \\begin{bmatrix} 2x_1 \\\\ 2x_2 \\end{bmatrix} $\n",
        "\n",
        "Equating Gradient equal to zero :\n",
        "\n",
        "$\\textbf{Minimizer and minimum value}$\n",
        "\n",
        "For f(x) , the minimizer is $ x = [0, 0] $ and the minimum function value is 9.\n",
        "\n",
        "$\\textbf{Convexity}$\n",
        "\n",
        "The function \\( f(x) \\) is convex because it is a quadratic function.\n",
        "\n",
        "$\\rule{30cm}{2pt}$\n",
        "\n",
        "$\\textbf {Function  g(x)} $\n",
        "\n",
        "The function is given by:\n",
        "$ g(x) = \\sum_{i=1}^{n} \\frac{1}{P(i)}(x_i - {i^2})^2 $\n",
        "\n",
        "\n",
        "$\\textbf{Minimizer and minimum value}$\n",
        "For g(x) , assuming  n  is finite:\n",
        " $$\n",
        "   g(x) = \\sum_{i=1}^{n} \\frac{(x_i - i^2)^2}{P(i)}\n",
        "   $$\n",
        "   - $\\frac{\\partial g}{\\partial x}$= $\\frac{2(x_i - i^2)}{P(i)} = 0$\n",
        "   - Solving for $x_i$: $x_i = i^2$ for all $i$\n",
        "   - Minimizer: $x_i = i^2$ for all $i$\n",
        "   - Minimum Value: $g(x) = 0$\n",
        "1. **For $g(x)$:**\n",
        "   $$ g(x) = \\sum_{i=1}^{n} \\frac{(x_i - i^2)^2}{P(i)} $$\n",
        "\n",
        "   Given values: $P(1) = \\frac{1}{16}$, $P(2) = \\frac{1}{256}$, $P(3) = \\frac{1}{4}$, $P(4) = \\frac{1}{64}$\n",
        "\n",
        "   The Hessian matrix is:\n",
        "   Certainly! The Hessian matrix for\n",
        "g(x) is obtained by taking the second-order partial derivatives of\n",
        "\n",
        "g(x) with respect to xi Given that P(i) is a constant for each i, the Hessian matrix Hg is as follows\n",
        "​\n",
        "\n",
        "\n",
        "\n",
        "   $$ H_g = \\begin{bmatrix}\n",
        "       16 & 0 & 0 & \\dots & 0 \\\\\n",
        "       0 & 256 & 0 & \\dots & 0 \\\\\n",
        "       0 & 0 & 4 & \\dots & 0 \\\\\n",
        "       \\vdots & \\vdots & \\vdots & \\ddots & \\vdots \\\\\n",
        "       0 & 0 & 0 & \\dots & 64\n",
        "   \\end{bmatrix} $$\n",
        "\n",
        "   Since the Hessian matrix $H_g$ is positive definite (all diagonal entries are positive), $g(x)$ is convex.\n",
        "$\\rule{30cm}{3pt}$"
      ],
      "metadata": {
        "id": "o1niSmwqXi83"
      }
    },
    {
      "cell_type": "markdown",
      "source": [
        "$\\textbf{2.}$ Implement Gradient Descent with the exact line search for f(x) and also implement Newton’s Method (From\n",
        "LAB-01) for f(x). Note down the time taken, number of iterations required for convergence, record the final\n",
        "minimizer, final objective function value for both the implementations. Provide observations on the results, and\n",
        "comment on the minimizers and objective function values so obtained. Plot the level sets of the function f(x)\n",
        "and also plot the trajectory of the optimization on the same plot for both the implementations and report your\n",
        "observations. (Take τ = 10−15, x0 = (1000, −1000).)"
      ],
      "metadata": {
        "id": "ckAS3sQ61qfu"
      }
    },
    {
      "cell_type": "code",
      "source": [
        "import numpy as np\n",
        "import time\n",
        "\n",
        "def f(x):\n",
        "    return x[0]**2 + x[1]**2 + 9\n",
        "\n",
        "def gradient_f(x):\n",
        "    return np.array([2 * x[0], 2 * x[1]])\n",
        "\n",
        "def exact_line_search(x, gradient):\n",
        "    alpha = np.dot(gradient, gradient) / np.dot(gradient, gradient_f(gradient))\n",
        "    return alpha\n",
        "\n",
        "def gradient_descent_exact_line_search(x0, tolerance=1e-15, max_iterations=1000):\n",
        "    x = np.array(x0)\n",
        "    iterations = 0\n",
        "    start_time = time.time()\n",
        "\n",
        "    while np.linalg.norm(gradient_f(x)) > tolerance and iterations < max_iterations:\n",
        "        alpha = exact_line_search(x, -gradient_f(x))\n",
        "        x = x + alpha * (-gradient_f(x))\n",
        "        iterations += 1\n",
        "\n",
        "    end_time = time.time()\n",
        "    elapsed_time = end_time - start_time\n",
        "\n",
        "    return {\n",
        "        'minimizer': x,\n",
        "        'minimized_value': f(x),\n",
        "        'iterations': iterations,\n",
        "        'elapsed_time': elapsed_time\n",
        "    }\n",
        "\n",
        "# Initial point\n",
        "x0 = [1000, -1000]\n",
        "\n",
        "# Run gradient descent with exact line search\n",
        "result = gradient_descent_exact_line_search(x0)\n",
        "\n",
        "# Display results\n",
        "print(\"Minimizer:\", result['minimizer'])\n",
        "print(\"Final Objective Function Value:\", result['minimized_value'])\n",
        "print(\"Number of Iterations:\", result['iterations'])\n",
        "print(\"Time Taken:\", result['elapsed_time'], \"seconds\")\n"
      ],
      "metadata": {
        "colab": {
          "base_uri": "https://localhost:8080/"
        },
        "id": "NwwMyGHiN7qT",
        "outputId": "a6f0a4a0-af69-4a81-800a-3a3952135654"
      },
      "execution_count": null,
      "outputs": [
        {
          "output_type": "stream",
          "name": "stdout",
          "text": [
            "Minimizer: [0. 0.]\n",
            "Final Objective Function Value: 9.0\n",
            "Number of Iterations: 1\n",
            "Time Taken: 0.0001621246337890625 seconds\n"
          ]
        }
      ]
    },
    {
      "cell_type": "code",
      "execution_count": null,
      "metadata": {
        "id": "-qpgk-9VoZ-9"
      },
      "outputs": [],
      "source": [
        ""
      ]
    },
    {
      "cell_type": "code",
      "source": [
        "import numpy as np\n",
        "import matplotlib.pyplot as plt\n",
        "\n",
        "def f(x):\n",
        "    return x[0]**2 + x[1]**2 + 9\n",
        "\n",
        "def gradient_f(x):\n",
        "    return np.array([2 * x[0], 2 * x[1]])\n",
        "\n",
        "def exact_line_search(x, gradient):\n",
        "    alpha = np.dot(gradient, gradient) / np.dot(gradient, gradient_f(gradient))\n",
        "    return alpha\n",
        "\n",
        "def gradient_descent_exact_line_search1(x0, tolerance=1e-15, max_iterations=1000):\n",
        "    x = np.array(x0)\n",
        "    trajectory = [x.copy()]\n",
        "\n",
        "    iterations = 0\n",
        "    while np.linalg.norm(gradient_f(x)) > tolerance and iterations < max_iterations:\n",
        "        alpha = exact_line_search(x, -gradient_f(x))\n",
        "        x = x + alpha * (-gradient_f(x))\n",
        "        trajectory.append(x.copy())\n",
        "        iterations += 1\n",
        "\n",
        "    return np.array(trajectory)\n",
        "\n",
        "# Initial point\n",
        "x0 = [1000, -1000]\n",
        "\n",
        "# Run gradient descent with exact line search\n",
        "trajectory = gradient_descent_exact_line_search1(x0)\n",
        "\n",
        "# Generate level sets\n",
        "x = np.linspace(-50, 50, 100)\n",
        "y = np.linspace(-50, 50, 100)\n",
        "X, Y = np.meshgrid(x, y)\n",
        "Z = X**2 + Y**2 + 9\n",
        "\n",
        "# Plot level sets\n",
        "plt.contour(X, Y, Z, levels=20, cmap='viridis', alpha=0.8, linestyles='dashed')\n",
        "plt.title('Level Sets of $f(x) = x_1^2 + x_2^2 + 9$ and Optimization Trajectory')\n",
        "plt.xlabel('$x_1$')\n",
        "plt.ylabel('$x_2$')\n",
        "\n",
        "# Plot trajectory\n",
        "plt.plot(trajectory[:, 0], trajectory[:, 1], marker='o', color='red', label='Optimization Trajectory')\n",
        "\n",
        "# Highlight the final minimizer\n",
        "plt.scatter(0, 0, color='green', label='Minimizer $(0, 0)$')\n",
        "\n",
        "plt.legend()\n",
        "plt.show()\n"
      ],
      "metadata": {
        "colab": {
          "base_uri": "https://localhost:8080/",
          "height": 476
        },
        "id": "_tDWbee2N8Ya",
        "outputId": "b36b5582-e3b1-4dd8-85fd-f34c3d4b113d"
      },
      "execution_count": null,
      "outputs": [
        {
          "output_type": "display_data",
          "data": {
            "text/plain": [
              "<Figure size 640x480 with 1 Axes>"
            ],
            "image/png": "[encoded data removed]"
          },
          "metadata": {}
        }
      ]
    },
    {
      "cell_type": "code",
      "source": [],
      "metadata": {
        "id": "0YDNvhWJGnj6"
      },
      "execution_count": null,
      "outputs": []
    },
    {
      "cell_type": "markdown",
      "source": [
        "$\\textbf{3.}$ For n ∈ {2, 20, 200, 2000, 5000, 10000, 15000, 20000, 30000, 50000, 100000, 200000} Implement Gradient Descent\n",
        "with the exact line search for g(x) and also implement Newton’s Method (From LAB-01) for g(x). Note down\n",
        "the time taken, number of iterations required for convergence, record the final minimizer, final objective function\n",
        "value for both the implementations. Provide observations on the results, and comment on the minimizers and\n",
        "objective function values so obtained. Only for n = 2 plot the level sets of the function g(x) and also plot\n",
        "the trajectory of the optimization on the same plot for both the implementations and report your observations.\n",
        "(Take τ = 10−15, x0 = (1, 2, 3, ....., n).)"
      ],
      "metadata": {
        "id": "4f4c92eKHX_Y"
      }
    },
    {
      "cell_type": "code",
      "source": [
        "import numpy as np\n",
        "import matplotlib.pyplot as plt\n",
        "from scipy.optimize import minimize_scalar\n",
        "\n",
        "# Define the periodic function P(y)\n",
        "def P(y):\n",
        "    return 1 / (4 ** (y // 4))\n",
        "\n",
        "# Objective function g(x)\n",
        "def g(x):\n",
        "    n = len(x)\n",
        "    result = 0\n",
        "    for i in range(n):\n",
        "        result += (1 / P(i )) *(x[i] - i**2) ** 2\n",
        "    return result\n",
        "\n",
        "# Gradient of g(x)\n",
        "def grad_g(x):\n",
        "    n = len(x)\n",
        "    gradient = np.zeros(n)\n",
        "    for i in range(n):\n",
        "        gradient[i] = 2 * (x[i] - i**2) / P(i)\n",
        "    return gradient\n",
        "\n",
        "# Hessian of g(x)\n",
        "def hessian_g(x):\n",
        "    n = len(x)\n",
        "    hessian = np.zeros((n, n))\n",
        "    for i in range(n):\n",
        "        hessian[i, i] = 2 / P(i)\n",
        "    return hessian\n",
        "\n",
        "# Gradient Descent with Exact Line Search\n",
        "def gradient_descent_exact_line_search_g(x0, tol=1e-15, max_iter=1000):\n",
        "    x = x0\n",
        "    iterations = 0\n",
        "\n",
        "    while iterations < max_iter:\n",
        "        gradient = grad_g(x)\n",
        "        alpha = minimize_scalar(lambda a: g(x - a * gradient)).x\n",
        "        x = x - alpha * gradient\n",
        "        iterations += 1\n",
        "\n",
        "        if np.linalg.norm(gradient) < tol:\n",
        "            break\n",
        "\n",
        "    return x, g(x), iterations\n",
        "\n",
        "# Newton's Method\n",
        "def newtons_method_g(x0, tol=1e-15, max_iter=1000):\n",
        "    x = x0\n",
        "    iterations = 0\n",
        "\n",
        "    while iterations < max_iter:\n",
        "        gradient = grad_g(x)\n",
        "        hessian = hessian_g(x)\n",
        "\n",
        "        # Check if Hessian is invertible\n",
        "        if np.linalg.det(hessian) == 0:\n",
        "            break\n",
        "\n",
        "        direction = -np.linalg.inv(hessian).dot(gradient)\n",
        "        x = x + direction\n",
        "        iterations += 1\n",
        "\n",
        "        if np.linalg.norm(gradient) < tol:\n",
        "            break\n",
        "\n",
        "    return x, g(x), iterations\n",
        "\n",
        "# Initial values\n",
        "n_values = [2, 20, 200, 2000,5000,10000,20000]\n",
        "\n",
        "for n in n_values:\n",
        "    x0 = np.arange(1, n + 1)\n",
        "\n",
        "    # Gradient Descent with Exact Line Search\n",
        "    start_time = time.time()\n",
        "    minimizer_gd, min_val_gd, iter_gd = gradient_descent_exact_line_search_g(x0)\n",
        "    gd_time = time.time() - start_time\n",
        "\n",
        "    # Newton's Method\n",
        "    start_time = time.time()\n",
        "    minimizer_newton, min_val_newton, iter_newton = newtons_method_g(x0)\n",
        "    newton_time = time.time() - start_time\n",
        "\n",
        "    # Print results\n",
        "    print(f\"\\nFor n = {n}:\")\n",
        "    print(\"Gradient Descent:\")\n",
        "    print(\"Time taken:\", gd_time)\n",
        "    print(\"Number of iterations:\", iter_gd)\n",
        "    print(\"Minimizer:\", minimizer_gd)\n",
        "    print(\"Final objective function value:\", min_val_gd)\n",
        "\n",
        "    print(\"\\nNewton's Method:\")\n",
        "    print(\"Time taken:\", newton_time)\n",
        "    print(\"Number of iterations:\", iter_newton)\n",
        "    print(\"Minimizer:\", minimizer_newton)\n",
        "    print(\"Final objective function value:\", min_val_newton)\n"
      ],
      "metadata": {
        "colab": {
          "base_uri": "https://localhost:8080/",
          "height": 1000
        },
        "id": "ykAaxzoxGnaa",
        "outputId": "7a674d4a-74ca-4de6-ecb5-db7ccae3b0d6"
      },
      "execution_count": 19,
      "outputs": [
        {
          "output_type": "stream",
          "name": "stdout",
          "text": [
            "\n",
            "For n = 2:\n",
            "Gradient Descent:\n",
            "Time taken: 0.0009176731109619141\n",
            "Number of iterations: 2\n",
            "Minimizer: [0. 1.]\n",
            "Final objective function value: 0.0\n",
            "\n",
            "Newton's Method:\n",
            "Time taken: 0.003940105438232422\n",
            "Number of iterations: 2\n",
            "Minimizer: [0. 1.]\n",
            "Final objective function value: 0.0\n",
            "\n",
            "For n = 20:\n",
            "Gradient Descent:\n",
            "Time taken: 1.0133283138275146\n",
            "Number of iterations: 1000\n",
            "Minimizer: [5.09624055e-07 1.00000051e+00 3.99999949e+00 8.99999745e+00\n",
            " 1.60000000e+01 2.50000000e+01 3.60000000e+01 4.90000000e+01\n",
            " 6.40000000e+01 8.10000000e+01 1.00000000e+02 1.21000000e+02\n",
            " 1.44000000e+02 1.69000000e+02 1.96000000e+02 2.25000000e+02\n",
            " 2.56000000e+02 2.89000000e+02 3.24000000e+02 3.61000000e+02]\n",
            "Final objective function value: 7.419667534702722e-12\n",
            "\n",
            "Newton's Method:\n",
            "Time taken: 0.0021734237670898438\n",
            "Number of iterations: 2\n",
            "Minimizer: [  0.   1.   4.   9.  16.  25.  36.  49.  64.  81. 100. 121. 144. 169.\n",
            " 196. 225. 256. 289. 324. 361.]\n",
            "Final objective function value: 0.0\n",
            "\n",
            "For n = 200:\n",
            "Gradient Descent:\n",
            "Time taken: 3.4936420917510986\n",
            "Number of iterations: 1000\n",
            "Minimizer: [  1.   2.   3.   4.   5.   6.   7.   8.   9.  10.  11.  12.  13.  14.\n",
            "  15.  16.  17.  18.  19.  20.  21.  22.  23.  24.  25.  26.  27.  28.\n",
            "  29.  30.  31.  32.  33.  34.  35.  36.  37.  38.  39.  40.  41.  42.\n",
            "  43.  44.  45.  46.  47.  48.  49.  50.  51.  52.  53.  54.  55.  56.\n",
            "  57.  58.  59.  60.  61.  62.  63.  64.  65.  66.  67.  68.  69.  70.\n",
            "  71.  72.  73.  74.  75.  76.  77.  78.  79.  80.  81.  82.  83.  84.\n",
            "  85.  86.  87.  88.  89.  90.  91.  92.  93.  94.  95.  96.  97.  98.\n",
            "  99. 100. 101. 102. 103. 104. 105. 106. 107. 108. 109. 110. 111. 112.\n",
            " 113. 114. 115. 116. 117. 118. 119. 120. 121. 122. 123. 124. 125. 126.\n",
            " 127. 128. 129. 130. 131. 132. 133. 134. 135. 136. 137. 138. 139. 140.\n",
            " 141. 142. 143. 144. 145. 146. 147. 148. 149. 150. 151. 152. 153. 154.\n",
            " 155. 156. 157. 158. 159. 160. 161. 162. 163. 164. 165. 166. 167. 168.\n",
            " 169. 170. 171. 172. 173. 174. 175. 176. 177. 178. 179. 180. 181. 182.\n",
            " 183. 184. 185. 186. 187. 188. 189. 190. 191. 192. 193. 194. 195. 196.\n",
            " 197. 198. 199. 200.]\n",
            "Final objective function value: 2.4804773352921458e+39\n",
            "\n",
            "Newton's Method:\n",
            "Time taken: 0.013184547424316406\n",
            "Number of iterations: 2\n",
            "Minimizer: [0.0000e+00 1.0000e+00 4.0000e+00 9.0000e+00 1.6000e+01 2.5000e+01\n",
            " 3.6000e+01 4.9000e+01 6.4000e+01 8.1000e+01 1.0000e+02 1.2100e+02\n",
            " 1.4400e+02 1.6900e+02 1.9600e+02 2.2500e+02 2.5600e+02 2.8900e+02\n",
            " 3.2400e+02 3.6100e+02 4.0000e+02 4.4100e+02 4.8400e+02 5.2900e+02\n",
            " 5.7600e+02 6.2500e+02 6.7600e+02 7.2900e+02 7.8400e+02 8.4100e+02\n",
            " 9.0000e+02 9.6100e+02 1.0240e+03 1.0890e+03 1.1560e+03 1.2250e+03\n",
            " 1.2960e+03 1.3690e+03 1.4440e+03 1.5210e+03 1.6000e+03 1.6810e+03\n",
            " 1.7640e+03 1.8490e+03 1.9360e+03 2.0250e+03 2.1160e+03 2.2090e+03\n",
            " 2.3040e+03 2.4010e+03 2.5000e+03 2.6010e+03 2.7040e+03 2.8090e+03\n",
            " 2.9160e+03 3.0250e+03 3.1360e+03 3.2490e+03 3.3640e+03 3.4810e+03\n",
            " 3.6000e+03 3.7210e+03 3.8440e+03 3.9690e+03 4.0960e+03 4.2250e+03\n",
            " 4.3560e+03 4.4890e+03 4.6240e+03 4.7610e+03 4.9000e+03 5.0410e+03\n",
            " 5.1840e+03 5.3290e+03 5.4760e+03 5.6250e+03 5.7760e+03 5.9290e+03\n",
            " 6.0840e+03 6.2410e+03 6.4000e+03 6.5610e+03 6.7240e+03 6.8890e+03\n",
            " 7.0560e+03 7.2250e+03 7.3960e+03 7.5690e+03 7.7440e+03 7.9210e+03\n",
            " 8.1000e+03 8.2810e+03 8.4640e+03 8.6490e+03 8.8360e+03 9.0250e+03\n",
            " 9.2160e+03 9.4090e+03 9.6040e+03 9.8010e+03 1.0000e+04 1.0201e+04\n",
            " 1.0404e+04 1.0609e+04 1.0816e+04 1.1025e+04 1.1236e+04 1.1449e+04\n",
            " 1.1664e+04 1.1881e+04 1.2100e+04 1.2321e+04 1.2544e+04 1.2769e+04\n",
            " 1.2996e+04 1.3225e+04 1.3456e+04 1.3689e+04 1.3924e+04 1.4161e+04\n",
            " 1.4400e+04 1.4641e+04 1.4884e+04 1.5129e+04 1.5376e+04 1.5625e+04\n",
            " 1.5876e+04 1.6129e+04 1.6384e+04 1.6641e+04 1.6900e+04 1.7161e+04\n",
            " 1.7424e+04 1.7689e+04 1.7956e+04 1.8225e+04 1.8496e+04 1.8769e+04\n",
            " 1.9044e+04 1.9321e+04 1.9600e+04 1.9881e+04 2.0164e+04 2.0449e+04\n",
            " 2.0736e+04 2.1025e+04 2.1316e+04 2.1609e+04 2.1904e+04 2.2201e+04\n",
            " 2.2500e+04 2.2801e+04 2.3104e+04 2.3409e+04 2.3716e+04 2.4025e+04\n",
            " 2.4336e+04 2.4649e+04 2.4964e+04 2.5281e+04 2.5600e+04 2.5921e+04\n",
            " 2.6244e+04 2.6569e+04 2.6896e+04 2.7225e+04 2.7556e+04 2.7889e+04\n",
            " 2.8224e+04 2.8561e+04 2.8900e+04 2.9241e+04 2.9584e+04 2.9929e+04\n",
            " 3.0276e+04 3.0625e+04 3.0976e+04 3.1329e+04 3.1684e+04 3.2041e+04\n",
            " 3.2400e+04 3.2761e+04 3.3124e+04 3.3489e+04 3.3856e+04 3.4225e+04\n",
            " 3.4596e+04 3.4969e+04 3.5344e+04 3.5721e+04 3.6100e+04 3.6481e+04\n",
            " 3.6864e+04 3.7249e+04 3.7636e+04 3.8025e+04 3.8416e+04 3.8809e+04\n",
            " 3.9204e+04 3.9601e+04]\n",
            "Final objective function value: 0.0\n"
          ]
        },
        {
          "output_type": "stream",
          "name": "stderr",
          "text": [
            "<ipython-input-19-1c4378825a90>:14: RuntimeWarning: overflow encountered in double_scalars\n",
            "  result += (1 / P(i )) *(x[i] - i**2) ** 2\n"
          ]
        },
        {
          "output_type": "stream",
          "name": "stdout",
          "text": [
            "\n",
            "For n = 2000:\n",
            "Gradient Descent:\n",
            "Time taken: 22.96792221069336\n",
            "Number of iterations: 1000\n",
            "Minimizer: [1.000e+00 2.000e+00 3.000e+00 ... 1.998e+03 1.999e+03 2.000e+03]\n",
            "Final objective function value: inf\n",
            "\n",
            "Newton's Method:\n",
            "Time taken: 4.058487176895142\n",
            "Number of iterations: 2\n",
            "Minimizer: [0.000000e+00 1.000000e+00 4.000000e+00 ... 3.988009e+06 3.992004e+06\n",
            " 3.996001e+06]\n",
            "Final objective function value: 0.0\n"
          ]
        },
        {
          "output_type": "stream",
          "name": "stderr",
          "text": [
            "<ipython-input-19-1c4378825a90>:22: RuntimeWarning: overflow encountered in divide\n",
            "  gradient[i] = 2 * (x[i] - i**2) / P(i)\n",
            "<ipython-input-19-1c4378825a90>:22: RuntimeWarning: divide by zero encountered in divide\n",
            "  gradient[i] = 2 * (x[i] - i**2) / P(i)\n",
            "<ipython-input-19-1c4378825a90>:40: RuntimeWarning: invalid value encountered in multiply\n",
            "  alpha = minimize_scalar(lambda a: g(x - a * gradient)).x\n"
          ]
        },
        {
          "output_type": "error",
          "ename": "ZeroDivisionError",
          "evalue": "float division by zero",
          "traceback": [
            "\u001b[0;31m---------------------------------------------------------------------------\u001b[0m",
            "\u001b[0;31mZeroDivisionError\u001b[0m                         Traceback (most recent call last)",
            "\u001b[0;32m<ipython-input-19-1c4378825a90>\u001b[0m in \u001b[0;36m<cell line: 74>\u001b[0;34m()\u001b[0m\n\u001b[1;32m     77\u001b[0m     \u001b[0;31m# Gradient Descent with Exact Line Search\u001b[0m\u001b[0;34m\u001b[0m\u001b[0;34m\u001b[0m\u001b[0m\n\u001b[1;32m     78\u001b[0m     \u001b[0mstart_time\u001b[0m \u001b[0;34m=\u001b[0m \u001b[0mtime\u001b[0m\u001b[0;34m.\u001b[0m\u001b[0mtime\u001b[0m\u001b[0;34m(\u001b[0m\u001b[0;34m)\u001b[0m\u001b[0;34m\u001b[0m\u001b[0;34m\u001b[0m\u001b[0m\n\u001b[0;32m---> 79\u001b[0;31m     \u001b[0mminimizer_gd\u001b[0m\u001b[0;34m,\u001b[0m \u001b[0mmin_val_gd\u001b[0m\u001b[0;34m,\u001b[0m \u001b[0miter_gd\u001b[0m \u001b[0;34m=\u001b[0m \u001b[0mgradient_descent_exact_line_search_g\u001b[0m\u001b[0;34m(\u001b[0m\u001b[0mx0\u001b[0m\u001b[0;34m)\u001b[0m\u001b[0;34m\u001b[0m\u001b[0;34m\u001b[0m\u001b[0m\n\u001b[0m\u001b[1;32m     80\u001b[0m     \u001b[0mgd_time\u001b[0m \u001b[0;34m=\u001b[0m \u001b[0mtime\u001b[0m\u001b[0;34m.\u001b[0m\u001b[0mtime\u001b[0m\u001b[0;34m(\u001b[0m\u001b[0;34m)\u001b[0m \u001b[0;34m-\u001b[0m \u001b[0mstart_time\u001b[0m\u001b[0;34m\u001b[0m\u001b[0;34m\u001b[0m\u001b[0m\n\u001b[1;32m     81\u001b[0m \u001b[0;34m\u001b[0m\u001b[0m\n",
            "\u001b[0;32m<ipython-input-19-1c4378825a90>\u001b[0m in \u001b[0;36mgradient_descent_exact_line_search_g\u001b[0;34m(x0, tol, max_iter)\u001b[0m\n\u001b[1;32m     38\u001b[0m     \u001b[0;32mwhile\u001b[0m \u001b[0miterations\u001b[0m \u001b[0;34m<\u001b[0m \u001b[0mmax_iter\u001b[0m\u001b[0;34m:\u001b[0m\u001b[0;34m\u001b[0m\u001b[0;34m\u001b[0m\u001b[0m\n\u001b[1;32m     39\u001b[0m         \u001b[0mgradient\u001b[0m \u001b[0;34m=\u001b[0m \u001b[0mgrad_g\u001b[0m\u001b[0;34m(\u001b[0m\u001b[0mx\u001b[0m\u001b[0;34m)\u001b[0m\u001b[0;34m\u001b[0m\u001b[0;34m\u001b[0m\u001b[0m\n\u001b[0;32m---> 40\u001b[0;31m         \u001b[0malpha\u001b[0m \u001b[0;34m=\u001b[0m \u001b[0mminimize_scalar\u001b[0m\u001b[0;34m(\u001b[0m\u001b[0;32mlambda\u001b[0m \u001b[0ma\u001b[0m\u001b[0;34m:\u001b[0m \u001b[0mg\u001b[0m\u001b[0;34m(\u001b[0m\u001b[0mx\u001b[0m \u001b[0;34m-\u001b[0m \u001b[0ma\u001b[0m \u001b[0;34m*\u001b[0m \u001b[0mgradient\u001b[0m\u001b[0;34m)\u001b[0m\u001b[0;34m)\u001b[0m\u001b[0;34m.\u001b[0m\u001b[0mx\u001b[0m\u001b[0;34m\u001b[0m\u001b[0;34m\u001b[0m\u001b[0m\n\u001b[0m\u001b[1;32m     41\u001b[0m         \u001b[0mx\u001b[0m \u001b[0;34m=\u001b[0m \u001b[0mx\u001b[0m \u001b[0;34m-\u001b[0m \u001b[0malpha\u001b[0m \u001b[0;34m*\u001b[0m \u001b[0mgradient\u001b[0m\u001b[0;34m\u001b[0m\u001b[0;34m\u001b[0m\u001b[0m\n\u001b[1;32m     42\u001b[0m         \u001b[0miterations\u001b[0m \u001b[0;34m+=\u001b[0m \u001b[0;36m1\u001b[0m\u001b[0;34m\u001b[0m\u001b[0;34m\u001b[0m\u001b[0m\n",
            "\u001b[0;32m/usr/local/lib/python3.10/dist-packages/scipy/optimize/_minimize.py\u001b[0m in \u001b[0;36mminimize_scalar\u001b[0;34m(fun, bracket, bounds, args, method, tol, options)\u001b[0m\n\u001b[1;32m    927\u001b[0m         \u001b[0mres\u001b[0m \u001b[0;34m=\u001b[0m \u001b[0mmethod\u001b[0m\u001b[0;34m(\u001b[0m\u001b[0mfun\u001b[0m\u001b[0;34m,\u001b[0m \u001b[0margs\u001b[0m\u001b[0;34m=\u001b[0m\u001b[0margs\u001b[0m\u001b[0;34m,\u001b[0m \u001b[0mbracket\u001b[0m\u001b[0;34m=\u001b[0m\u001b[0mbracket\u001b[0m\u001b[0;34m,\u001b[0m \u001b[0mbounds\u001b[0m\u001b[0;34m=\u001b[0m\u001b[0mbounds\u001b[0m\u001b[0;34m,\u001b[0m \u001b[0;34m**\u001b[0m\u001b[0moptions\u001b[0m\u001b[0;34m)\u001b[0m\u001b[0;34m\u001b[0m\u001b[0;34m\u001b[0m\u001b[0m\n\u001b[1;32m    928\u001b[0m     \u001b[0;32melif\u001b[0m \u001b[0mmeth\u001b[0m \u001b[0;34m==\u001b[0m \u001b[0;34m'brent'\u001b[0m\u001b[0;34m:\u001b[0m\u001b[0;34m\u001b[0m\u001b[0;34m\u001b[0m\u001b[0m\n\u001b[0;32m--> 929\u001b[0;31m         res = _recover_from_bracket_error(_minimize_scalar_brent,\n\u001b[0m\u001b[1;32m    930\u001b[0m                                           fun, bracket, args, **options)\n\u001b[1;32m    931\u001b[0m     \u001b[0;32melif\u001b[0m \u001b[0mmeth\u001b[0m \u001b[0;34m==\u001b[0m \u001b[0;34m'bounded'\u001b[0m\u001b[0;34m:\u001b[0m\u001b[0;34m\u001b[0m\u001b[0;34m\u001b[0m\u001b[0m\n",
            "\u001b[0;32m/usr/local/lib/python3.10/dist-packages/scipy/optimize/_optimize.py\u001b[0m in \u001b[0;36m_recover_from_bracket_error\u001b[0;34m(solver, fun, bracket, args, **options)\u001b[0m\n\u001b[1;32m   3074\u001b[0m     \u001b[0;31m# and intercepting it here.\u001b[0m\u001b[0;34m\u001b[0m\u001b[0;34m\u001b[0m\u001b[0m\n\u001b[1;32m   3075\u001b[0m     \u001b[0;32mtry\u001b[0m\u001b[0;34m:\u001b[0m\u001b[0;34m\u001b[0m\u001b[0;34m\u001b[0m\u001b[0m\n\u001b[0;32m-> 3076\u001b[0;31m         \u001b[0mres\u001b[0m \u001b[0;34m=\u001b[0m \u001b[0msolver\u001b[0m\u001b[0;34m(\u001b[0m\u001b[0mfun\u001b[0m\u001b[0;34m,\u001b[0m \u001b[0mbracket\u001b[0m\u001b[0;34m,\u001b[0m \u001b[0margs\u001b[0m\u001b[0;34m,\u001b[0m \u001b[0;34m**\u001b[0m\u001b[0moptions\u001b[0m\u001b[0;34m)\u001b[0m\u001b[0;34m\u001b[0m\u001b[0;34m\u001b[0m\u001b[0m\n\u001b[0m\u001b[1;32m   3077\u001b[0m     \u001b[0;32mexcept\u001b[0m \u001b[0mBracketError\u001b[0m \u001b[0;32mas\u001b[0m \u001b[0me\u001b[0m\u001b[0;34m:\u001b[0m\u001b[0;34m\u001b[0m\u001b[0;34m\u001b[0m\u001b[0m\n\u001b[1;32m   3078\u001b[0m         \u001b[0mmsg\u001b[0m \u001b[0;34m=\u001b[0m \u001b[0mstr\u001b[0m\u001b[0;34m(\u001b[0m\u001b[0me\u001b[0m\u001b[0;34m)\u001b[0m\u001b[0;34m\u001b[0m\u001b[0;34m\u001b[0m\u001b[0m\n",
            "\u001b[0;32m/usr/local/lib/python3.10/dist-packages/scipy/optimize/_optimize.py\u001b[0m in \u001b[0;36m_minimize_scalar_brent\u001b[0;34m(func, brack, args, xtol, maxiter, disp, **unknown_options)\u001b[0m\n\u001b[1;32m   2677\u001b[0m                   full_output=True, maxiter=maxiter, disp=disp)\n\u001b[1;32m   2678\u001b[0m     \u001b[0mbrent\u001b[0m\u001b[0;34m.\u001b[0m\u001b[0mset_bracket\u001b[0m\u001b[0;34m(\u001b[0m\u001b[0mbrack\u001b[0m\u001b[0;34m)\u001b[0m\u001b[0;34m\u001b[0m\u001b[0;34m\u001b[0m\u001b[0m\n\u001b[0;32m-> 2679\u001b[0;31m     \u001b[0mbrent\u001b[0m\u001b[0;34m.\u001b[0m\u001b[0moptimize\u001b[0m\u001b[0;34m(\u001b[0m\u001b[0;34m)\u001b[0m\u001b[0;34m\u001b[0m\u001b[0;34m\u001b[0m\u001b[0m\n\u001b[0m\u001b[1;32m   2680\u001b[0m     \u001b[0mx\u001b[0m\u001b[0;34m,\u001b[0m \u001b[0mfval\u001b[0m\u001b[0;34m,\u001b[0m \u001b[0mnit\u001b[0m\u001b[0;34m,\u001b[0m \u001b[0mnfev\u001b[0m \u001b[0;34m=\u001b[0m \u001b[0mbrent\u001b[0m\u001b[0;34m.\u001b[0m\u001b[0mget_result\u001b[0m\u001b[0;34m(\u001b[0m\u001b[0mfull_output\u001b[0m\u001b[0;34m=\u001b[0m\u001b[0;32mTrue\u001b[0m\u001b[0;34m)\u001b[0m\u001b[0;34m\u001b[0m\u001b[0;34m\u001b[0m\u001b[0m\n\u001b[1;32m   2681\u001b[0m \u001b[0;34m\u001b[0m\u001b[0m\n",
            "\u001b[0;32m/usr/local/lib/python3.10/dist-packages/scipy/optimize/_optimize.py\u001b[0m in \u001b[0;36moptimize\u001b[0;34m(self)\u001b[0m\n\u001b[1;32m   2447\u001b[0m         \u001b[0;31m# set up for optimization\u001b[0m\u001b[0;34m\u001b[0m\u001b[0;34m\u001b[0m\u001b[0m\n\u001b[1;32m   2448\u001b[0m         \u001b[0mfunc\u001b[0m \u001b[0;34m=\u001b[0m \u001b[0mself\u001b[0m\u001b[0;34m.\u001b[0m\u001b[0mfunc\u001b[0m\u001b[0;34m\u001b[0m\u001b[0;34m\u001b[0m\u001b[0m\n\u001b[0;32m-> 2449\u001b[0;31m         \u001b[0mxa\u001b[0m\u001b[0;34m,\u001b[0m \u001b[0mxb\u001b[0m\u001b[0;34m,\u001b[0m \u001b[0mxc\u001b[0m\u001b[0;34m,\u001b[0m \u001b[0mfa\u001b[0m\u001b[0;34m,\u001b[0m \u001b[0mfb\u001b[0m\u001b[0;34m,\u001b[0m \u001b[0mfc\u001b[0m\u001b[0;34m,\u001b[0m \u001b[0mfuncalls\u001b[0m \u001b[0;34m=\u001b[0m \u001b[0mself\u001b[0m\u001b[0;34m.\u001b[0m\u001b[0mget_bracket_info\u001b[0m\u001b[0;34m(\u001b[0m\u001b[0;34m)\u001b[0m\u001b[0;34m\u001b[0m\u001b[0;34m\u001b[0m\u001b[0m\n\u001b[0m\u001b[1;32m   2450\u001b[0m         \u001b[0m_mintol\u001b[0m \u001b[0;34m=\u001b[0m \u001b[0mself\u001b[0m\u001b[0;34m.\u001b[0m\u001b[0m_mintol\u001b[0m\u001b[0;34m\u001b[0m\u001b[0;34m\u001b[0m\u001b[0m\n\u001b[1;32m   2451\u001b[0m         \u001b[0m_cg\u001b[0m \u001b[0;34m=\u001b[0m \u001b[0mself\u001b[0m\u001b[0;34m.\u001b[0m\u001b[0m_cg\u001b[0m\u001b[0;34m\u001b[0m\u001b[0;34m\u001b[0m\u001b[0m\n",
            "\u001b[0;32m/usr/local/lib/python3.10/dist-packages/scipy/optimize/_optimize.py\u001b[0m in \u001b[0;36mget_bracket_info\u001b[0;34m(self)\u001b[0m\n\u001b[1;32m   2414\u001b[0m         \u001b[0;31m### carefully DOCUMENT any CHANGES in core ##\u001b[0m\u001b[0;34m\u001b[0m\u001b[0;34m\u001b[0m\u001b[0m\n\u001b[1;32m   2415\u001b[0m         \u001b[0;32mif\u001b[0m \u001b[0mbrack\u001b[0m \u001b[0;32mis\u001b[0m \u001b[0;32mNone\u001b[0m\u001b[0;34m:\u001b[0m\u001b[0;34m\u001b[0m\u001b[0;34m\u001b[0m\u001b[0m\n\u001b[0;32m-> 2416\u001b[0;31m             \u001b[0mxa\u001b[0m\u001b[0;34m,\u001b[0m \u001b[0mxb\u001b[0m\u001b[0;34m,\u001b[0m \u001b[0mxc\u001b[0m\u001b[0;34m,\u001b[0m \u001b[0mfa\u001b[0m\u001b[0;34m,\u001b[0m \u001b[0mfb\u001b[0m\u001b[0;34m,\u001b[0m \u001b[0mfc\u001b[0m\u001b[0;34m,\u001b[0m \u001b[0mfuncalls\u001b[0m \u001b[0;34m=\u001b[0m \u001b[0mbracket\u001b[0m\u001b[0;34m(\u001b[0m\u001b[0mfunc\u001b[0m\u001b[0;34m,\u001b[0m \u001b[0margs\u001b[0m\u001b[0;34m=\u001b[0m\u001b[0margs\u001b[0m\u001b[0;34m)\u001b[0m\u001b[0;34m\u001b[0m\u001b[0;34m\u001b[0m\u001b[0m\n\u001b[0m\u001b[1;32m   2417\u001b[0m         \u001b[0;32melif\u001b[0m \u001b[0mlen\u001b[0m\u001b[0;34m(\u001b[0m\u001b[0mbrack\u001b[0m\u001b[0;34m)\u001b[0m \u001b[0;34m==\u001b[0m \u001b[0;36m2\u001b[0m\u001b[0;34m:\u001b[0m\u001b[0;34m\u001b[0m\u001b[0;34m\u001b[0m\u001b[0m\n\u001b[1;32m   2418\u001b[0m             xa, xb, xc, fa, fb, fc, funcalls = bracket(func, xa=brack[0],\n",
            "\u001b[0;32m/usr/local/lib/python3.10/dist-packages/scipy/optimize/_optimize.py\u001b[0m in \u001b[0;36mbracket\u001b[0;34m(func, xa, xb, args, grow_limit, maxiter)\u001b[0m\n\u001b[1;32m   2970\u001b[0m     \u001b[0;31m# convert to numpy floats if not already\u001b[0m\u001b[0;34m\u001b[0m\u001b[0;34m\u001b[0m\u001b[0m\n\u001b[1;32m   2971\u001b[0m     \u001b[0mxa\u001b[0m\u001b[0;34m,\u001b[0m \u001b[0mxb\u001b[0m \u001b[0;34m=\u001b[0m \u001b[0mnp\u001b[0m\u001b[0;34m.\u001b[0m\u001b[0masarray\u001b[0m\u001b[0;34m(\u001b[0m\u001b[0;34m[\u001b[0m\u001b[0mxa\u001b[0m\u001b[0;34m,\u001b[0m \u001b[0mxb\u001b[0m\u001b[0;34m]\u001b[0m\u001b[0;34m)\u001b[0m\u001b[0;34m\u001b[0m\u001b[0;34m\u001b[0m\u001b[0m\n\u001b[0;32m-> 2972\u001b[0;31m     \u001b[0mfa\u001b[0m \u001b[0;34m=\u001b[0m \u001b[0mfunc\u001b[0m\u001b[0;34m(\u001b[0m\u001b[0;34m*\u001b[0m\u001b[0;34m(\u001b[0m\u001b[0mxa\u001b[0m\u001b[0;34m,\u001b[0m\u001b[0;34m)\u001b[0m \u001b[0;34m+\u001b[0m \u001b[0margs\u001b[0m\u001b[0;34m)\u001b[0m\u001b[0;34m\u001b[0m\u001b[0;34m\u001b[0m\u001b[0m\n\u001b[0m\u001b[1;32m   2973\u001b[0m     \u001b[0mfb\u001b[0m \u001b[0;34m=\u001b[0m \u001b[0mfunc\u001b[0m\u001b[0;34m(\u001b[0m\u001b[0;34m*\u001b[0m\u001b[0;34m(\u001b[0m\u001b[0mxb\u001b[0m\u001b[0;34m,\u001b[0m\u001b[0;34m)\u001b[0m \u001b[0;34m+\u001b[0m \u001b[0margs\u001b[0m\u001b[0;34m)\u001b[0m\u001b[0;34m\u001b[0m\u001b[0;34m\u001b[0m\u001b[0m\n\u001b[1;32m   2974\u001b[0m     \u001b[0;32mif\u001b[0m \u001b[0;34m(\u001b[0m\u001b[0mfa\u001b[0m \u001b[0;34m<\u001b[0m \u001b[0mfb\u001b[0m\u001b[0;34m)\u001b[0m\u001b[0;34m:\u001b[0m                      \u001b[0;31m# Switch so fa > fb\u001b[0m\u001b[0;34m\u001b[0m\u001b[0;34m\u001b[0m\u001b[0m\n",
            "\u001b[0;32m<ipython-input-19-1c4378825a90>\u001b[0m in \u001b[0;36m<lambda>\u001b[0;34m(a)\u001b[0m\n\u001b[1;32m     38\u001b[0m     \u001b[0;32mwhile\u001b[0m \u001b[0miterations\u001b[0m \u001b[0;34m<\u001b[0m \u001b[0mmax_iter\u001b[0m\u001b[0;34m:\u001b[0m\u001b[0;34m\u001b[0m\u001b[0;34m\u001b[0m\u001b[0m\n\u001b[1;32m     39\u001b[0m         \u001b[0mgradient\u001b[0m \u001b[0;34m=\u001b[0m \u001b[0mgrad_g\u001b[0m\u001b[0;34m(\u001b[0m\u001b[0mx\u001b[0m\u001b[0;34m)\u001b[0m\u001b[0;34m\u001b[0m\u001b[0;34m\u001b[0m\u001b[0m\n\u001b[0;32m---> 40\u001b[0;31m         \u001b[0malpha\u001b[0m \u001b[0;34m=\u001b[0m \u001b[0mminimize_scalar\u001b[0m\u001b[0;34m(\u001b[0m\u001b[0;32mlambda\u001b[0m \u001b[0ma\u001b[0m\u001b[0;34m:\u001b[0m \u001b[0mg\u001b[0m\u001b[0;34m(\u001b[0m\u001b[0mx\u001b[0m \u001b[0;34m-\u001b[0m \u001b[0ma\u001b[0m \u001b[0;34m*\u001b[0m \u001b[0mgradient\u001b[0m\u001b[0;34m)\u001b[0m\u001b[0;34m)\u001b[0m\u001b[0;34m.\u001b[0m\u001b[0mx\u001b[0m\u001b[0;34m\u001b[0m\u001b[0;34m\u001b[0m\u001b[0m\n\u001b[0m\u001b[1;32m     41\u001b[0m         \u001b[0mx\u001b[0m \u001b[0;34m=\u001b[0m \u001b[0mx\u001b[0m \u001b[0;34m-\u001b[0m \u001b[0malpha\u001b[0m \u001b[0;34m*\u001b[0m \u001b[0mgradient\u001b[0m\u001b[0;34m\u001b[0m\u001b[0;34m\u001b[0m\u001b[0m\n\u001b[1;32m     42\u001b[0m         \u001b[0miterations\u001b[0m \u001b[0;34m+=\u001b[0m \u001b[0;36m1\u001b[0m\u001b[0;34m\u001b[0m\u001b[0;34m\u001b[0m\u001b[0m\n",
            "\u001b[0;32m<ipython-input-19-1c4378825a90>\u001b[0m in \u001b[0;36mg\u001b[0;34m(x)\u001b[0m\n\u001b[1;32m     12\u001b[0m     \u001b[0mresult\u001b[0m \u001b[0;34m=\u001b[0m \u001b[0;36m0\u001b[0m\u001b[0;34m\u001b[0m\u001b[0;34m\u001b[0m\u001b[0m\n\u001b[1;32m     13\u001b[0m     \u001b[0;32mfor\u001b[0m \u001b[0mi\u001b[0m \u001b[0;32min\u001b[0m \u001b[0mrange\u001b[0m\u001b[0;34m(\u001b[0m\u001b[0mn\u001b[0m\u001b[0;34m)\u001b[0m\u001b[0;34m:\u001b[0m\u001b[0;34m\u001b[0m\u001b[0;34m\u001b[0m\u001b[0m\n\u001b[0;32m---> 14\u001b[0;31m         \u001b[0mresult\u001b[0m \u001b[0;34m+=\u001b[0m \u001b[0;34m(\u001b[0m\u001b[0;36m1\u001b[0m \u001b[0;34m/\u001b[0m \u001b[0mP\u001b[0m\u001b[0;34m(\u001b[0m\u001b[0mi\u001b[0m \u001b[0;34m)\u001b[0m\u001b[0;34m)\u001b[0m \u001b[0;34m*\u001b[0m\u001b[0;34m(\u001b[0m\u001b[0mx\u001b[0m\u001b[0;34m[\u001b[0m\u001b[0mi\u001b[0m\u001b[0;34m]\u001b[0m \u001b[0;34m-\u001b[0m \u001b[0mi\u001b[0m\u001b[0;34m**\u001b[0m\u001b[0;36m2\u001b[0m\u001b[0;34m)\u001b[0m \u001b[0;34m**\u001b[0m \u001b[0;36m2\u001b[0m\u001b[0;34m\u001b[0m\u001b[0;34m\u001b[0m\u001b[0m\n\u001b[0m\u001b[1;32m     15\u001b[0m     \u001b[0;32mreturn\u001b[0m \u001b[0mresult\u001b[0m\u001b[0;34m\u001b[0m\u001b[0;34m\u001b[0m\u001b[0m\n\u001b[1;32m     16\u001b[0m \u001b[0;34m\u001b[0m\u001b[0m\n",
            "\u001b[0;31mZeroDivisionError\u001b[0m: float division by zero"
          ]
        }
      ]
    },
    {
      "cell_type": "code",
      "source": [
        "# Crash at n=5000"
      ],
      "metadata": {
        "id": "I9uraFjSGzdA"
      },
      "execution_count": null,
      "outputs": []
    },
    {
      "cell_type": "code",
      "source": [],
      "metadata": {
        "id": "pFcElu1VHUnG"
      },
      "execution_count": null,
      "outputs": []
    },
    {
      "cell_type": "code",
      "source": [],
      "metadata": {
        "id": "dHfi4wDpL3hb"
      },
      "execution_count": null,
      "outputs": []
    }
  ]
}