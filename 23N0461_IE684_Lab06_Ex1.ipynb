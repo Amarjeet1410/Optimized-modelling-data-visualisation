{
  "nbformat": 4,
  "nbformat_minor": 0,
  "metadata": {
    "colab": {
      "provenance": []
    },
    "kernelspec": {
      "name": "python3",
      "display_name": "Python 3"
    },
    "language_info": {
      "name": "python"
    }
  },
  "cells": [
    {
      "cell_type": "code",
      "execution_count": 3,
      "metadata": {
        "id": "9TVYz7SJ0jNg"
      },
      "outputs": [],
      "source": [
        "import numpy as np\n",
        "import matplotlib.pyplot as plt\n",
        "import pandas as pd\n",
        "from numpy import random\n",
        "from sklearn.datasets import load_digits\n",
        "random.seed(1000)"
      ]
    },
    {
      "cell_type": "code",
      "source": [
        "def evalf(A,x,y,n_feat, n, lamb):\n",
        "  f = np.matmul(A,x) - y\n",
        "  return 0.5*(np.linalg.norm(f))**2  + 0.5*lamb*(np.matmul(x.T , x))\n",
        "\n",
        "\n",
        "def evalg(A,x,y,n_feat, n, lamb):\n",
        "  d = np.matmul(A,x) - y\n",
        "  g = np.matmul(A.T , d) + lamb*x\n",
        "  return g\n",
        "\n",
        "def evalh(A,x,y,n_feat, n, lamb):\n",
        "  h = np.matmul(A.T , A) + lamb*np.identity(n_feat)\n",
        "  return h\n"
      ],
      "metadata": {
        "id": "De38NxXM4fzX"
      },
      "execution_count": 4,
      "outputs": []
    },
    {
      "cell_type": "code",
      "source": [
        "def compute_steplength_backtracking_scaled_direction(A,x,y, n_feat, n ,lamb  ,gradf, direction, alpha_start, rho, gamma): #add appropriate arguments to the function\n",
        "\n",
        "\n",
        "  alpha = alpha_start\n",
        "  p = -gradf\n",
        "\n",
        "  while (evalf(A, x + alpha*np.matmul(direction,p), y, n_feat, n,lamb) > (evalf(A,x,y,n_feat,n,lamb) + gamma * alpha * np.matmul(gradf.T, np.matmul(direction, p))) ):\n",
        "    alpha = alpha*rho\n",
        "\n",
        "  return alpha\n",
        "\n",
        "\n",
        "#line search type\n",
        "CONSTANT_STEP_LENGTH = 3\n",
        "BACKTRACKING_LINE_SEARCH = 2\n",
        "EXACT_LINE_SEARCH = 1\n",
        "\n",
        "\n",
        "\n",
        "def find_minimizer_Newtonmethod(A, start_x, y, n_feat,  n,lamb, tol, line_search_type, *args):\n",
        "\n",
        "\n",
        "  x = start_x\n",
        "  g_x = evalg(A,x,y,n_feat,n,lamb)\n",
        "\n",
        "\n",
        "  if line_search_type == BACKTRACKING_LINE_SEARCH:\n",
        "    if args is None:\n",
        "      err_msg = 'Line search type: BACKTRACKING_LINE_SEARCH, but did not receive any args. Please check!'\n",
        "      raise ValueError(err_msg)\n",
        "    elif len(args)<3 :\n",
        "      err_msg = 'Line search type: BACKTRACKING_LINE_SEARCH, but did not receive three args. Please check!'\n",
        "      raise ValueError(err_msg)\n",
        "    else:\n",
        "      alpha_start = float(args[0])\n",
        "      rho = float(args[1])\n",
        "      gamma = float(args[2])\n",
        "  k = 0\n",
        "  x_k = []\n",
        "\n",
        "\n",
        "\n",
        "  while (np.linalg.norm(g_x) > tol):\n",
        "\n",
        "    d = np.linalg.inv(evalh(A,x,y,n_feat,n,lamb))\n",
        "\n",
        "    if line_search_type == BACKTRACKING_LINE_SEARCH:\n",
        "      step_length = compute_steplength_backtracking_scaled_direction(A,x,y,n_feat,n,lamb,g_x, d , alpha_start,rho, gamma)\n",
        "\n",
        "    elif line_search_type == CONSTANT_STEP_LENGTH:\n",
        "      step_length = 1.0\n",
        "\n",
        "    else:\n",
        "      raise ValueError('Line search type unknown. Please check!')\n",
        "\n",
        "    x = np.subtract(x, step_length * np.matmul(d,g_x))\n",
        "    k += 1\n",
        "    x_k.append(x)\n",
        "    g_x = evalg(A,x,y,n_feat,n,lamb)\n",
        "\n",
        "  return x, k, x_k\n",
        "\n",
        "\n",
        "\n",
        "def find_minimizer_BFGS(A, start_x, y, n_feat, n,lamb, tol,line_search_type,*args):\n",
        "\n",
        "\n",
        "\n",
        "  x = start_x\n",
        "  k = 0\n",
        "  g_new = evalg(A,x,y,n_feat,n,lamb)\n",
        "  B = np.identity(n_feat)\n",
        "  x_k = []\n",
        "\n",
        "  if line_search_type == BACKTRACKING_LINE_SEARCH:\n",
        "    if args is None:\n",
        "      err_msg = 'Line search type: BACKTRACKING_LINE_SEARCH, but did not receive any args. Please check!'\n",
        "      raise ValueError(err_msg)\n",
        "    elif len(args)<3 :\n",
        "      err_msg = 'Line search type: BACKTRACKING_LINE_SEARCH, but did not receive three args. Please check!'\n",
        "      raise ValueError(err_msg)\n",
        "    else:\n",
        "      alpha_start = float(args[0])\n",
        "      rho = float(args[1])\n",
        "      gamma = float(args[2])\n",
        "\n",
        "  while (np.linalg.norm(g_new) > tol):\n",
        "\n",
        "    d = B\n",
        "\n",
        "    if line_search_type == BACKTRACKING_LINE_SEARCH:\n",
        "      step_length = compute_steplength_backtracking_scaled_direction(A,x,y,n_feat,n,lamb ,g_new, d , alpha_start,rho, gamma)\n",
        "\n",
        "    elif line_search_type == CONSTANT_STEP_LENGTH:\n",
        "      step_length = 1.0\n",
        "\n",
        "    else:\n",
        "      raise ValueError('Line search type unknown. Please check!')\n",
        "\n",
        "    g_old = evalg(A,x,y,n_feat,n,lamb)\n",
        "    p = np.matmul(-1*B, g_old)\n",
        "    x = x + step_length * p\n",
        "    s = step_length * p\n",
        "    g_new = evalg(A,x,y,n_feat,n,lamb)\n",
        "    y_k = g_new - g_old\n",
        "\n",
        "    mu = 1 / (np.matmul(y_k.T,s))\n",
        "    term1 = np.identity(n_feat) - mu * np.matmul(s,y_k.T)\n",
        "    term2 = np.identity(n_feat) - mu * np.matmul(y_k, s.T)\n",
        "\n",
        "    B = np.matmul(term1, np.matmul(B ,term2))  +  mu * np.matmul(s,s.T)\n",
        "\n",
        "    k = k + 1\n",
        "    x_k.append(x)\n",
        "\n",
        "\n",
        "  return x, k, x_k"
      ],
      "metadata": {
        "id": "_cs1kTbR_QTE"
      },
      "execution_count": 5,
      "outputs": []
    },
    {
      "cell_type": "code",
      "source": [
        "digits = load_digits()\n",
        "\n",
        "print(digits.data.shape)\n",
        "print(digits.target.shape)\n",
        "\n",
        "N = digits.data.shape[0]\n",
        "d = digits.data.shape[1]\n",
        "A = digits.data\n",
        "y = 1.0 * np.ones([A.shape[0],1])\n",
        "\n",
        "for i in range(digits.target.shape[0]):\n",
        "  y[i] = digits.target[i]\n"
      ],
      "metadata": {
        "colab": {
          "base_uri": "https://localhost:8080/"
        },
        "id": "k-uBNvidAMyr",
        "outputId": "cdde4ac0-33af-47e7-a249-cfca18a468a2"
      },
      "execution_count": 6,
      "outputs": [
        {
          "output_type": "stream",
          "name": "stdout",
          "text": [
            "(1797, 64)\n",
            "(1797,)\n"
          ]
        }
      ]
    },
    {
      "cell_type": "markdown",
      "source": [
        "***1. Use Newton’s method to solve the problem (1), which is direct OLSLR. Use the starting point x = 0. Report\n",
        "the difficulties, you encounter. Check if these difficulties remain if you use Newton’s method to solve the\n",
        "problem (2), the regularized OLSLR with λ = 0.001 and the same starting point. Explain the reasons for your\n",
        "observation. Report the values of $x^*_f$\n",
        "and $x^*_{f_{\\lambda}}$.***"
      ],
      "metadata": {
        "id": "Q_FzdKpLDtcU"
      }
    },
    {
      "cell_type": "code",
      "source": [
        "my_x = np.zeros((A.shape[1],1))\n",
        "lamb = [0, 0.001]\n",
        "my_tol = 10e-5\n",
        "alpha = 0.9\n",
        "rho = 0.5\n",
        "gamma = 0.5\n",
        "\n",
        "try:\n",
        "  x_0 , k_0 , x_k0 = find_minimizer_Newtonmethod(A,my_x,y,d,N,lamb[0],my_tol,BACKTRACKING_LINE_SEARCH, alpha, rho, gamma)\n",
        "except Exception as e:\n",
        "  print('Error : ',e)\n",
        "\n",
        "x_1 , k_1 , x_k1 = find_minimizer_Newtonmethod(A,my_x,y,d,N,lamb[1],my_tol,BACKTRACKING_LINE_SEARCH, alpha, rho, gamma)\n",
        "\n",
        "print('Results :-')\n",
        "print('---')\n",
        "\n",
        "print('With lamda=0 , ERROR : Singular matrix \\n ')\n",
        "print('With lambda=0.001 , x_opt = ',x_1.T , '\\n\\n and the number of iterations taken is,' , k_1)"
      ],
      "metadata": {
        "colab": {
          "base_uri": "https://localhost:8080/"
        },
        "id": "rNW_D5_zAU0m",
        "outputId": "1c26ebfb-1236-4859-ed2d-0b017b9ce4a1"
      },
      "execution_count": 7,
      "outputs": [
        {
          "output_type": "stream",
          "name": "stdout",
          "text": [
            "Error :  Singular matrix\n",
            "Results :-\n",
            "---\n",
            "With lamda=0 , ERROR : Singular matrix \n",
            " \n",
            "With lambda=0.001 , x_opt =  [[ 0.00000000e+00  9.69081198e-02 -4.32184332e-03 -7.75905151e-03\n",
            "   7.49591748e-02  1.13946521e-02 -2.71290491e-02 -7.34533997e-03\n",
            "   9.98260900e-01 -2.88088759e-02  1.18688363e-01  6.60923364e-02\n",
            "  -5.57076519e-02 -6.97055394e-02  9.65840774e-02  2.55197388e-01\n",
            "  -7.29830858e-01  2.42711927e-02  7.73240740e-02 -2.33009319e-02\n",
            "  -5.64076767e-02  5.72412687e-02 -4.88671008e-02 -2.62564814e-01\n",
            "  -9.06022045e-01 -1.49769823e-01  5.64023115e-02  8.96665491e-02\n",
            "   8.39315716e-02  9.85409858e-02  1.69265074e-03 -2.96634092e+00\n",
            "   0.00000000e+00 -1.54361384e-01 -9.32408982e-03  1.39498013e-01\n",
            "  -3.69237696e-02  5.46111772e-02 -9.20417645e-03  0.00000000e+00\n",
            "   1.03331195e-01  1.23983507e-01 -1.37634792e-02  5.40023150e-03\n",
            "   1.31185759e-01  5.49578519e-02  2.24935666e-02  7.48053084e-03\n",
            "   6.17483072e-01  2.44098450e-02  1.42358774e-03 -6.21115205e-02\n",
            "  -2.07024590e-01 -3.38510968e-02  1.05486790e-01 -1.40336534e-01\n",
            "  -9.82166003e-01 -1.14474286e-01  2.10484265e-02 -4.36084142e-02\n",
            "   1.87372291e-02 -6.66561651e-02  1.19384648e-02 -5.27783104e-02]] \n",
            "\n",
            " and the number of iterations taken is, 13\n"
          ]
        }
      ]
    },
    {
      "cell_type": "markdown",
      "source": [
        " ***2. Use the BFGS method with starting point x = 0, to solve the problem (1) and describe if you observe any\n",
        "difficulty. Check if solving the regularized problem (2) helps (use λ = 0.001 and starting point x = 0). Explain\n",
        "your observations. Report the values of $x^*_f$\n",
        "and $x^*_{f_{\\lambda}}$.***\n"
      ],
      "metadata": {
        "id": "x7YORkOoEcLi"
      }
    },
    {
      "cell_type": "code",
      "source": [
        "x_0 , k_0 , x_k0 = find_minimizer_BFGS(A,my_x,y,d,N,lamb[1],my_tol,BACKTRACKING_LINE_SEARCH, alpha, rho, gamma)\n",
        "x_1 , k_1 , x_k1 = find_minimizer_BFGS(A,my_x,y,d,N,lamb[1],my_tol,BACKTRACKING_LINE_SEARCH, alpha, rho, gamma)\n",
        "\n",
        "print('For the BFGS Methods Without regualrization')\n",
        "print('\\n')\n",
        "print('Optimal x : ', x_0.T)\n",
        "print('Number of itertion : ', k_0)\n",
        "\n",
        "print('--------')\n",
        "\n",
        "print('For the BFGS Methods With lambda = 0.001')\n",
        "print('\\n')\n",
        "print('Optimal x : ', x_1.T)\n",
        "print('Number of itertion : ', k_1)"
      ],
      "metadata": {
        "colab": {
          "base_uri": "https://localhost:8080/"
        },
        "id": "2KCYAH0QAVp8",
        "outputId": "60b1190d-f78e-4db3-d708-9402893a0862"
      },
      "execution_count": 9,
      "outputs": [
        {
          "output_type": "stream",
          "name": "stdout",
          "text": [
            "For the BFGS Methods Without regualrization\n",
            "\n",
            "\n",
            "Optimal x :  [[ 0.00000000e+00  9.69081206e-02 -4.32184354e-03 -7.75905153e-03\n",
            "   7.49591748e-02  1.13946521e-02 -2.71290491e-02 -7.34533995e-03\n",
            "   9.98260900e-01 -2.88088760e-02  1.18688363e-01  6.60923365e-02\n",
            "  -5.57076520e-02 -6.97055394e-02  9.65840773e-02  2.55197389e-01\n",
            "  -7.29830856e-01  2.42711928e-02  7.73240741e-02 -2.33009319e-02\n",
            "  -5.64076767e-02  5.72412688e-02 -4.88671008e-02 -2.62564815e-01\n",
            "  -9.06022046e-01 -1.49769823e-01  5.64023114e-02  8.96665492e-02\n",
            "   8.39315716e-02  9.85409858e-02  1.69265083e-03 -2.96634092e+00\n",
            "   0.00000000e+00 -1.54361384e-01 -9.32408980e-03  1.39498013e-01\n",
            "  -3.69237696e-02  5.46111772e-02 -9.20417641e-03  0.00000000e+00\n",
            "   1.03331196e-01  1.23983507e-01 -1.37634792e-02  5.40023149e-03\n",
            "   1.31185759e-01  5.49578520e-02  2.24935666e-02  7.48053130e-03\n",
            "   6.17483070e-01  2.44098451e-02  1.42358773e-03 -6.21115205e-02\n",
            "  -2.07024590e-01 -3.38510968e-02  1.05486790e-01 -1.40336534e-01\n",
            "  -9.82165963e-01 -1.14474287e-01  2.10484268e-02 -4.36084143e-02\n",
            "   1.87372291e-02 -6.66561651e-02  1.19384647e-02 -5.27783102e-02]]\n",
            "Number of itertion :  70\n",
            "--------\n",
            "For the BFGS Methods With lambda = 0.001\n",
            "\n",
            "\n",
            "Optimal x :  [[ 0.00000000e+00  9.69081206e-02 -4.32184354e-03 -7.75905153e-03\n",
            "   7.49591748e-02  1.13946521e-02 -2.71290491e-02 -7.34533995e-03\n",
            "   9.98260900e-01 -2.88088760e-02  1.18688363e-01  6.60923365e-02\n",
            "  -5.57076520e-02 -6.97055394e-02  9.65840773e-02  2.55197389e-01\n",
            "  -7.29830856e-01  2.42711928e-02  7.73240741e-02 -2.33009319e-02\n",
            "  -5.64076767e-02  5.72412688e-02 -4.88671008e-02 -2.62564815e-01\n",
            "  -9.06022046e-01 -1.49769823e-01  5.64023114e-02  8.96665492e-02\n",
            "   8.39315716e-02  9.85409858e-02  1.69265083e-03 -2.96634092e+00\n",
            "   0.00000000e+00 -1.54361384e-01 -9.32408980e-03  1.39498013e-01\n",
            "  -3.69237696e-02  5.46111772e-02 -9.20417641e-03  0.00000000e+00\n",
            "   1.03331196e-01  1.23983507e-01 -1.37634792e-02  5.40023149e-03\n",
            "   1.31185759e-01  5.49578520e-02  2.24935666e-02  7.48053130e-03\n",
            "   6.17483070e-01  2.44098451e-02  1.42358773e-03 -6.21115205e-02\n",
            "  -2.07024590e-01 -3.38510968e-02  1.05486790e-01 -1.40336534e-01\n",
            "  -9.82165963e-01 -1.14474287e-01  2.10484268e-02 -4.36084143e-02\n",
            "   1.87372291e-02 -6.66561651e-02  1.19384647e-02 -5.27783102e-02]]\n",
            "Number of itertion :  70\n"
          ]
        }
      ]
    },
    {
      "cell_type": "code",
      "source": [],
      "metadata": {
        "id": "4iyvq-ibBGw1"
      },
      "execution_count": null,
      "outputs": []
    }
  ]
}