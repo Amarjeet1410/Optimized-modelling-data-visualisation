{
  "nbformat": 4,
  "nbformat_minor": 0,
  "metadata": {
    "colab": {
      "provenance": []
    },
    "kernelspec": {
      "name": "python3",
      "display_name": "Python 3"
    },
    "language_info": {
      "name": "python"
    }
  },
  "cells": [
    {
      "cell_type": "markdown",
      "source": [
        "***Exercise 2***"
      ],
      "metadata": {
        "id": "JRQb7aAPpN_C"
      }
    },
    {
      "cell_type": "markdown",
      "source": [
        "***1. Check the number of classes C and the class label values in iris data. Check if the class labels are set from the\n",
        "set {0, 1, . . . , C − 1} or if they are from the set {1, 2, . . . C}.***"
      ],
      "metadata": {
        "id": "IYrvJgzzmSF4"
      }
    },
    {
      "cell_type": "code",
      "source": [
        "from sklearn.datasets import load_iris\n",
        "\n",
        "# Load the iris dataset\n",
        "iris = load_iris()\n",
        "\n",
        "# Check the number of classes (C)\n",
        "num_classes = len(set(iris.target))\n",
        "print(\"Number of classes (C):\", num_classes)\n",
        "\n",
        "# Check the unique class label values\n",
        "unique_labels = sorted(set(iris.target))\n",
        "print(\"Unique class labels:\", unique_labels)\n",
        "\n",
        "# Check if the class labels start from 0 or 1\n",
        "if unique_labels[0] == 0:\n",
        "    print(\"Class labels are from the set {0, 1, ..., C-1}\")\n",
        "else:\n",
        "    print(\"Class labels are from the set {1, 2, ..., C}\")\n",
        "\n"
      ],
      "metadata": {
        "colab": {
          "base_uri": "https://localhost:8080/"
        },
        "id": "mMvBt706ctS4",
        "outputId": "c63c6362-d069-4e6f-93a7-fd2f7fb6923f"
      },
      "execution_count": null,
      "outputs": [
        {
          "output_type": "stream",
          "name": "stdout",
          "text": [
            "Number of classes (C): 3\n",
            "Unique class labels: [0, 1, 2]\n",
            "Class labels are from the set {0, 1, ..., C-1}\n"
          ]
        }
      ]
    },
    {
      "cell_type": "markdown",
      "source": [
        "***2. When loading the labels into y do the following:\n",
        "• If the class labels are from the set {0, 1, . . . , C − 1} convert classes 0, 2, 3, . . . , C − 1 to −1.\n",
        "• If the class labels are from the set {1, 2, . . . , C} convert classes 2, 3 . . . C to −1.\n",
        "Thus, you will have class labels eventually belonging to the set {+1, −1}***"
      ],
      "metadata": {
        "id": "tlFtusO1md9E"
      }
    },
    {
      "cell_type": "code",
      "execution_count": null,
      "metadata": {
        "colab": {
          "base_uri": "https://localhost:8080/"
        },
        "id": "6YVwB89tmDFX",
        "outputId": "44e4ecfb-efd9-4172-e82f-7f91b189855e"
      },
      "outputs": [
        {
          "output_type": "stream",
          "name": "stdout",
          "text": [
            "[-1. -1. -1. -1. -1. -1. -1. -1. -1. -1. -1. -1. -1. -1. -1. -1. -1. -1.\n",
            " -1. -1. -1. -1. -1. -1. -1. -1. -1. -1. -1. -1. -1. -1. -1. -1. -1. -1.\n",
            " -1. -1. -1. -1. -1. -1. -1. -1. -1. -1. -1. -1. -1. -1.  1.  1.  1.  1.\n",
            "  1.  1.  1.  1.  1.  1.  1.  1.  1.  1.  1.  1.  1.  1.  1.  1.  1.  1.\n",
            "  1.  1.  1.  1.  1.  1.  1.  1.  1.  1.  1.  1.  1.  1.  1.  1.  1.  1.\n",
            "  1.  1.  1.  1.  1.  1.  1.  1.  1.  1. -1. -1. -1. -1. -1. -1. -1. -1.\n",
            " -1. -1. -1. -1. -1. -1. -1. -1. -1. -1. -1. -1. -1. -1. -1. -1. -1. -1.\n",
            " -1. -1. -1. -1. -1. -1. -1. -1. -1. -1. -1. -1. -1. -1. -1. -1. -1. -1.\n",
            " -1. -1. -1. -1. -1. -1.]\n"
          ]
        }
      ],
      "source": [
        "import numpy as np\n",
        "from sklearn.datasets import load_iris\n",
        "A = iris.data\n",
        "n = iris.data.shape[0]\n",
        "\n",
        "# Convert class labels to +1 and -1\n",
        "y = 1.0 * np.ones([A.shape[0], ])\n",
        "for i in range(iris.target.shape[0]):\n",
        "    if iris.target[i] != 1:\n",
        "        y[i] = -1\n",
        "\n",
        "print(y)"
      ]
    },
    {
      "cell_type": "markdown",
      "source": [
        "***3. Note that a shuffled index array indexarr is used in the code. Use this index array to partition the data and\n",
        "labels into train and test splits. In particular, use the first 80% of the indices to create the training data and\n",
        "labels. Use the remaining 20% to create the test data and labels. Store them in the variables train data,\n",
        "train label, test data, test label.***"
      ],
      "metadata": {
        "id": "E34K-54tnGMJ"
      }
    },
    {
      "cell_type": "code",
      "source": [
        "# Create index array\n",
        "indexarr = np.arange(n)\n",
        "np.random.shuffle(indexarr)\n",
        "\n",
        "# Split data into train and test sets\n",
        "train_size = int(0.8 * n)\n",
        "train_data = A[indexarr[:train_size]]\n",
        "train_label = y[indexarr[:train_size]]\n",
        "test_data = A[indexarr[train_size:]]\n",
        "test_label = y[indexarr[train_size:]]"
      ],
      "metadata": {
        "id": "S9Ym38FMm-z2"
      },
      "execution_count": null,
      "outputs": []
    },
    {
      "cell_type": "markdown",
      "source": [
        "***4. Write a python function that implements the prediction rule in eqn. (2). Use the following the code template.***"
      ],
      "metadata": {
        "id": "UwZFgyzRnTXM"
      }
    },
    {
      "cell_type": "code",
      "source": [
        "# Define the prediction rule\n",
        "def predict(w, x):\n",
        "    return np.sign(np.dot(w, x))"
      ],
      "metadata": {
        "id": "SYLKfXv0nPog"
      },
      "execution_count": null,
      "outputs": []
    },
    {
      "cell_type": "markdown",
      "source": [
        "***5. Write a Python function that takes as input the model parameter w, data features, and labels and returns the\n",
        "accuracy of the data. (Use the predict function).***"
      ],
      "metadata": {
        "id": "jXzm7SbLnbah"
      }
    },
    {
      "cell_type": "code",
      "source": [
        "# Define the accuracy computation function\n",
        "def compute_accuracy(data, labels, model_w):\n",
        "    predictions = [predict(model_w, x) for x in data]\n",
        "    correct_predictions = np.sum(np.array(predictions) == labels)\n",
        "    accuracy = correct_predictions / len(labels)\n",
        "    return accuracy"
      ],
      "metadata": {
        "id": "F7QKgvdRnh6W"
      },
      "execution_count": null,
      "outputs": []
    },
    {
      "cell_type": "code",
      "source": [],
      "metadata": {
        "id": "PqwjDFeHnnFP"
      },
      "execution_count": null,
      "outputs": []
    }
  ]
}