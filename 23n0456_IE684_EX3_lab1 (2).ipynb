{
  "nbformat": 4,
  "nbformat_minor": 0,
  "metadata": {
    "colab": {
      "provenance": []
    },
    "kernelspec": {
      "name": "python3",
      "display_name": "Python 3"
    },
    "language_info": {
      "name": "python"
    }
  },
  "cells": [
    {
      "cell_type": "code",
      "execution_count": 1,
      "metadata": {
        "id": "S_DkvyzdOiPL"
      },
      "outputs": [],
      "source": [
        "import numpy as np\n",
        "import matplotlib.pyplot as plt\n",
        "import pandas as pd\n"
      ]
    },
    {
      "cell_type": "code",
      "source": [
        "# Creating a function to evaluate f(x)\n",
        "\n",
        "def evalf(x):\n",
        "  assert type(x) is np.ndarray and len(x) == 2\n",
        "  return (-x[0]+7)**2 + 100*(x[1]-(x[0])**2)**2\n",
        "\n",
        "# Creating a function to evaluate the gradient, g(x)and returna numpy array\n",
        "\n",
        "def evalg(x):\n",
        "  assert type(x) is np.ndarray and len(x)==2\n",
        "  return np.array([2*(x[0]-7)-400*x[0]*(x[1]-(x[0])**2), 200**(x[1]-(x[0])**2)])\n",
        "\n",
        "# creating a funtion find_minimiser to find the value of x that minimized the function f(x)\n",
        "\n",
        "def find_minimizer(start_x, tol, step):\n",
        "  assert type(start_x) is np.ndarray and len(start_x)==2\n",
        "  assert tol>= 0\n",
        "  assert step>= 0\n",
        "\n",
        "  x = start_x\n",
        "  g_x = evalg(x)\n",
        "  k =0\n",
        "\n",
        "  fvals = [evalf(x)]\n",
        "  #print('iter:',k, ' x:', x, ' f(x):', evalf(x), ' grad at x:', g_x, ' gradient norm:', np.linalg.norm(g_x))\n",
        "\n",
        "  while (np.linalg.norm(g_x) > tol):\n",
        "    x = np.subtract(x, np.multiply(step,g_x))\n",
        "    k += 1\n",
        "    g_x = evalg(x)\n",
        "\n",
        "    fvals.append(evalf(x))\n",
        "    #print('iter:',k, ' x:', x, ' f(x):', evalf(x), ' grad at x:', g_x, ' gradient norm:', np.linalg.norm(g_x))\n",
        "\n",
        "  return x, fvals,k\n"
      ],
      "metadata": {
        "id": "9WOcYofQPTeW"
      },
      "execution_count": null,
      "outputs": []
    },
    {
      "cell_type": "code",
      "source": [
        "#Checking the code and plotting the results by initialising a value\n",
        "\n",
        "my_start_x = np.array([-1.5,1.5])\n",
        "my_steplength = 0.001\n",
        "my_tol= [1e-1,1e-2,1e-3,1e-4]\n",
        "final_objective=[]\n",
        "Num_of_itr=[]\n",
        "opt_value=[]\n",
        "\n",
        "for i in range(len(my_tol)):\n",
        "  opt_x, fvals_ret,k = find_minimizer(my_start_x, my_tol[i], my_steplength)\n",
        "  print('Optimal value of x1 and x2 : ', opt_x, '\\n')\n",
        "  final_objective.append(min(fvals_ret))\n",
        "  Num_of_itr.append(k)\n",
        "  opt_value.append(opt_x)\n",
        "\n",
        "\n",
        "\n",
        "\n",
        "plt.plot(fvals_ret)\n",
        "plt.xlabel('Iterations')\n",
        "plt.ylabel('f(x)')\n",
        "plt.show()\n"
      ],
      "metadata": {
        "colab": {
          "base_uri": "https://localhost:8080/",
          "height": 588
        },
        "id": "u9YBGTFqTtf4",
        "outputId": "443d3cee-c10a-4af5-a717-626cf464f92b"
      },
      "execution_count": null,
      "outputs": [
        {
          "output_type": "stream",
          "name": "stdout",
          "text": [
            "Optimal value of x1 and x2 :  [ 0.07920528 -0.43116014] \n",
            "\n",
            "Optimal value of x1 and x2 :  [ 0.04002963 -0.86777848] \n",
            "\n",
            "Optimal value of x1 and x2 :  [ 0.02674202 -1.3030883 ] \n",
            "\n",
            "Optimal value of x1 and x2 :  [ 0.02007612 -1.73796149] \n",
            "\n"
          ]
        },
        {
          "output_type": "display_data",
          "data": {
            "text/plain": [
              "<Figure size 640x480 with 1 Axes>"
            ],
            "image/png": "[encoded data removed]"
          },
          "metadata": {}
        }
      ]
    },
    {
      "cell_type": "markdown",
      "source": [
        "What is the minimizer and minimum function value of f(x) = f(x1, x2) = (a + 1 − x1)2 + b · (x2 − x21\n",
        ")2 ?,\n",
        "Where a is the last digit of your Roll Number and b is 100 if a is an even number, else b is 10. Use these values for other problem that follows"
      ],
      "metadata": {
        "id": "5enMivvY12RN"
      }
    },
    {
      "cell_type": "code",
      "source": [
        "# to find the minimiser and minimum value\n",
        "minimum_value=min(final_objective)\n",
        "minimiser=opt_value[final_objective.index(minimum_value)]\n",
        "print(f\"the Minimum VAlue ofthe function is {minimum_value} and minimiser of the function is {minimiser}\")\n",
        "\n",
        "\n"
      ],
      "metadata": {
        "colab": {
          "base_uri": "https://localhost:8080/"
        },
        "id": "FNAvZdXEywwW",
        "outputId": "0c6a6af0-8baa-4518-bcd8-63cefea73a7f"
      },
      "execution_count": null,
      "outputs": [
        {
          "output_type": "stream",
          "name": "stdout",
          "text": [
            "the Minimum VAlue ofthe function is 44.37618883966369 and minimiser of the function is [ 0.07920528 -0.43116014]\n"
          ]
        }
      ]
    },
    {
      "cell_type": "markdown",
      "source": [
        "#Part 2"
      ],
      "metadata": {
        "id": "2uxhQY_m463s"
      }
    },
    {
      "cell_type": "code",
      "source": [
        "# to find the tabular form\n",
        "import pandas as pd\n",
        "data = {'Tau_values': my_tol, 'Final_Minimiser': final_objective, 'Iterations': Num_of_itr}\n",
        "Tabular_form=pd.DataFrame(data)\n",
        "Tabular_form"
      ],
      "metadata": {
        "colab": {
          "base_uri": "https://localhost:8080/",
          "height": 174
        },
        "id": "kQNb7fZ75DTq",
        "outputId": "61161be6-f196-4f59-944e-d3fe269c1bc1"
      },
      "execution_count": null,
      "outputs": [
        {
          "output_type": "execute_result",
          "data": {
            "text/plain": [
              "   Tau_values  Final_Minimiser  Iterations\n",
              "0      0.1000        44.376189        3068\n",
              "1      0.0100        44.376189       20171\n",
              "2      0.0010        44.376189      190332\n",
              "3      0.0001        44.376189     1890113"
            ],
            "text/html": [
              "\n",
              "  <div id=\"df-93443faf-d87c-4605-81ed-78523e4c03ea\" class=\"colab-df-container\">\n",
              "    <div>\n",
              "<style scoped>\n",
              "    .dataframe tbody tr th:only-of-type {\n",
              "        vertical-align: middle;\n",
              "    }\n",
              "\n",
              "    .dataframe tbody tr th {\n",
              "        vertical-align: top;\n",
              "    }\n",
              "\n",
              "    .dataframe thead th {\n",
              "        text-align: right;\n",
              "    }\n",
              "</style>\n",
              "<table border=\"1\" class=\"dataframe\">\n",
              "  <thead>\n",
              "    <tr style=\"text-align: right;\">\n",
              "      <th></th>\n",
              "      <th>Tau_values</th>\n",
              "      <th>Final_Minimiser</th>\n",
              "      <th>Iterations</th>\n",
              "    </tr>\n",
              "  </thead>\n",
              "  <tbody>\n",
              "    <tr>\n",
              "      <th>0</th>\n",
              "      <td>0.1000</td>\n",
              "      <td>44.376189</td>\n",
              "      <td>3068</td>\n",
              "    </tr>\n",
              "    <tr>\n",
              "      <th>1</th>\n",
              "      <td>0.0100</td>\n",
              "      <td>44.376189</td>\n",
              "      <td>20171</td>\n",
              "    </tr>\n",
              "    <tr>\n",
              "      <th>2</th>\n",
              "      <td>0.0010</td>\n",
              "      <td>44.376189</td>\n",
              "      <td>190332</td>\n",
              "    </tr>\n",
              "    <tr>\n",
              "      <th>3</th>\n",
              "      <td>0.0001</td>\n",
              "      <td>44.376189</td>\n",
              "      <td>1890113</td>\n",
              "    </tr>\n",
              "  </tbody>\n",
              "</table>\n",
              "</div>\n",
              "    <div class=\"colab-df-buttons\">\n",
              "\n",
              "  <div class=\"colab-df-container\">\n",
              "    <button class=\"colab-df-convert\" onclick=\"convertToInteractive('df-93443faf-d87c-4605-81ed-78523e4c03ea')\"\n",
              "            title=\"Convert this dataframe to an interactive table.\"\n",
              "            style=\"display:none;\">\n",
              "\n",
              "  <svg xmlns=\"http://www.w3.org/2000/svg\" height=\"24px\" viewBox=\"0 -960 960 960\">\n",
              "    <path d=\"M120-120v-720h720v720H120Zm60-500h600v-160H180v160Zm220 220h160v-160H400v160Zm0 220h160v-160H400v160ZM180-400h160v-160H180v160Zm440 0h160v-160H620v160ZM180-180h160v-160H180v160Zm440 0h160v-160H620v160Z\"/>\n",
              "  </svg>\n",
              "    </button>\n",
              "\n",
              "  <style>\n",
              "    .colab-df-container {\n",
              "      display:flex;\n",
              "      gap: 12px;\n",
              "    }\n",
              "\n",
              "    .colab-df-convert {\n",
              "      background-color: #E8F0FE;\n",
              "      border: none;\n",
              "      border-radius: 50%;\n",
              "      cursor: pointer;\n",
              "      display: none;\n",
              "      fill: #1967D2;\n",
              "      height: 32px;\n",
              "      padding: 0 0 0 0;\n",
              "      width: 32px;\n",
              "    }\n",
              "\n",
              "    .colab-df-convert:hover {\n",
              "      background-color: #E2EBFA;\n",
              "      box-shadow: 0px 1px 2px rgba(60, 64, 67, 0.3), 0px 1px 3px 1px rgba(60, 64, 67, 0.15);\n",
              "      fill: #174EA6;\n",
              "    }\n",
              "\n",
              "    .colab-df-buttons div {\n",
              "      margin-bottom: 4px;\n",
              "    }\n",
              "\n",
              "    [theme=dark] .colab-df-convert {\n",
              "      background-color: #3B4455;\n",
              "      fill: #D2E3FC;\n",
              "    }\n",
              "\n",
              "    [theme=dark] .colab-df-convert:hover {\n",
              "      background-color: #434B5C;\n",
              "      box-shadow: 0px 1px 3px 1px rgba(0, 0, 0, 0.15);\n",
              "      filter: drop-shadow(0px 1px 2px rgba(0, 0, 0, 0.3));\n",
              "      fill: #FFFFFF;\n",
              "    }\n",
              "  </style>\n",
              "\n",
              "    <script>\n",
              "      const buttonEl =\n",
              "        document.querySelector('#df-93443faf-d87c-4605-81ed-78523e4c03ea button.colab-df-convert');\n",
              "      buttonEl.style.display =\n",
              "        google.colab.kernel.accessAllowed ? 'block' : 'none';\n",
              "\n",
              "      async function convertToInteractive(key) {\n",
              "        const element = document.querySelector('#df-93443faf-d87c-4605-81ed-78523e4c03ea');\n",
              "        const dataTable =\n",
              "          await google.colab.kernel.invokeFunction('convertToInteractive',\n",
              "                                                    [key], {});\n",
              "        if (!dataTable) return;\n",
              "\n",
              "        const docLinkHtml = 'Like what you see? Visit the ' +\n",
              "          '<a target=\"_blank\" href=https://colab.research.google.com/notebooks/data_table.ipynb>data table notebook</a>'\n",
              "          + ' to learn more about interactive tables.';\n",
              "        element.innerHTML = '';\n",
              "        dataTable['output_type'] = 'display_data';\n",
              "        await google.colab.output.renderOutput(dataTable, element);\n",
              "        const docLink = document.createElement('div');\n",
              "        docLink.innerHTML = docLinkHtml;\n",
              "        element.appendChild(docLink);\n",
              "      }\n",
              "    </script>\n",
              "  </div>\n",
              "\n",
              "\n",
              "<div id=\"df-59d53420-d665-4e27-9716-2ac998a0ce3f\">\n",
              "  <button class=\"colab-df-quickchart\" onclick=\"quickchart('df-59d53420-d665-4e27-9716-2ac998a0ce3f')\"\n",
              "            title=\"Suggest charts\"\n",
              "            style=\"display:none;\">\n",
              "\n",
              "<svg xmlns=\"http://www.w3.org/2000/svg\" height=\"24px\"viewBox=\"0 0 24 24\"\n",
              "     width=\"24px\">\n",
              "    <g>\n",
              "        <path d=\"M19 3H5c-1.1 0-2 .9-2 2v14c0 1.1.9 2 2 2h14c1.1 0 2-.9 2-2V5c0-1.1-.9-2-2-2zM9 17H7v-7h2v7zm4 0h-2V7h2v10zm4 0h-2v-4h2v4z\"/>\n",
              "    </g>\n",
              "</svg>\n",
              "  </button>\n",
              "\n",
              "<style>\n",
              "  .colab-df-quickchart {\n",
              "      --bg-color: #E8F0FE;\n",
              "      --fill-color: #1967D2;\n",
              "      --hover-bg-color: #E2EBFA;\n",
              "      --hover-fill-color: #174EA6;\n",
              "      --disabled-fill-color: #AAA;\n",
              "      --disabled-bg-color: #DDD;\n",
              "  }\n",
              "\n",
              "  [theme=dark] .colab-df-quickchart {\n",
              "      --bg-color: #3B4455;\n",
              "      --fill-color: #D2E3FC;\n",
              "      --hover-bg-color: #434B5C;\n",
              "      --hover-fill-color: #FFFFFF;\n",
              "      --disabled-bg-color: #3B4455;\n",
              "      --disabled-fill-color: #666;\n",
              "  }\n",
              "\n",
              "  .colab-df-quickchart {\n",
              "    background-color: var(--bg-color);\n",
              "    border: none;\n",
              "    border-radius: 50%;\n",
              "    cursor: pointer;\n",
              "    display: none;\n",
              "    fill: var(--fill-color);\n",
              "    height: 32px;\n",
              "    padding: 0;\n",
              "    width: 32px;\n",
              "  }\n",
              "\n",
              "  .colab-df-quickchart:hover {\n",
              "    background-color: var(--hover-bg-color);\n",
              "    box-shadow: 0 1px 2px rgba(60, 64, 67, 0.3), 0 1px 3px 1px rgba(60, 64, 67, 0.15);\n",
              "    fill: var(--button-hover-fill-color);\n",
              "  }\n",
              "\n",
              "  .colab-df-quickchart-complete:disabled,\n",
              "  .colab-df-quickchart-complete:disabled:hover {\n",
              "    background-color: var(--disabled-bg-color);\n",
              "    fill: var(--disabled-fill-color);\n",
              "    box-shadow: none;\n",
              "  }\n",
              "\n",
              "  .colab-df-spinner {\n",
              "    border: 2px solid var(--fill-color);\n",
              "    border-color: transparent;\n",
              "    border-bottom-color: var(--fill-color);\n",
              "    animation:\n",
              "      spin 1s steps(1) infinite;\n",
              "  }\n",
              "\n",
              "  @keyframes spin {\n",
              "    0% {\n",
              "      border-color: transparent;\n",
              "      border-bottom-color: var(--fill-color);\n",
              "      border-left-color: var(--fill-color);\n",
              "    }\n",
              "    20% {\n",
              "      border-color: transparent;\n",
              "      border-left-color: var(--fill-color);\n",
              "      border-top-color: var(--fill-color);\n",
              "    }\n",
              "    30% {\n",
              "      border-color: transparent;\n",
              "      border-left-color: var(--fill-color);\n",
              "      border-top-color: var(--fill-color);\n",
              "      border-right-color: var(--fill-color);\n",
              "    }\n",
              "    40% {\n",
              "      border-color: transparent;\n",
              "      border-right-color: var(--fill-color);\n",
              "      border-top-color: var(--fill-color);\n",
              "    }\n",
              "    60% {\n",
              "      border-color: transparent;\n",
              "      border-right-color: var(--fill-color);\n",
              "    }\n",
              "    80% {\n",
              "      border-color: transparent;\n",
              "      border-right-color: var(--fill-color);\n",
              "      border-bottom-color: var(--fill-color);\n",
              "    }\n",
              "    90% {\n",
              "      border-color: transparent;\n",
              "      border-bottom-color: var(--fill-color);\n",
              "    }\n",
              "  }\n",
              "</style>\n",
              "\n",
              "  <script>\n",
              "    async function quickchart(key) {\n",
              "      const quickchartButtonEl =\n",
              "        document.querySelector('#' + key + ' button');\n",
              "      quickchartButtonEl.disabled = true;  // To prevent multiple clicks.\n",
              "      quickchartButtonEl.classList.add('colab-df-spinner');\n",
              "      try {\n",
              "        const charts = await google.colab.kernel.invokeFunction(\n",
              "            'suggestCharts', [key], {});\n",
              "      } catch (error) {\n",
              "        console.error('Error during call to suggestCharts:', error);\n",
              "      }\n",
              "      quickchartButtonEl.classList.remove('colab-df-spinner');\n",
              "      quickchartButtonEl.classList.add('colab-df-quickchart-complete');\n",
              "    }\n",
              "    (() => {\n",
              "      let quickchartButtonEl =\n",
              "        document.querySelector('#df-59d53420-d665-4e27-9716-2ac998a0ce3f button');\n",
              "      quickchartButtonEl.style.display =\n",
              "        google.colab.kernel.accessAllowed ? 'block' : 'none';\n",
              "    })();\n",
              "  </script>\n",
              "</div>\n",
              "    </div>\n",
              "  </div>\n"
            ]
          },
          "metadata": {},
          "execution_count": 30
        }
      ]
    },
    {
      "cell_type": "markdown",
      "source": [
        "#part 3"
      ],
      "metadata": {
        "id": "77ghfaDnVNOP"
      }
    },
    {
      "cell_type": "code",
      "source": [
        "import numpy as np\n",
        "import matplotlib.pyplot as plt\n",
        "from mpl_toolkits.mplot3d import Axes3D\n",
        "\n",
        "# Define the function\n",
        "def f(x1, x2):\n",
        "    return (6 + 1 - x1)**2 + 100 * (x2 - x1**2)**2\n",
        "\n",
        "# Define the gradient of the function\n",
        "def grad_f(x1, x2):\n",
        "    df_dx1 = -2 * (6 + 1 - x1) - 400 * x1 * (x2 - x1**2)\n",
        "    df_dx2 = 200 * (x2 - x1**2)\n",
        "    return np.array([df_dx1, df_dx2])\n",
        "\n",
        "# Define the optimization algorithm (e.g., gradient descent)\n",
        "def gradient_descent(initial_point, learning_rate, num_iterations):\n",
        "    trajectory = [initial_point]\n",
        "    current_point = initial_point.copy()\n",
        "\n",
        "    for _ in range(num_iterations):\n",
        "        current_point = current_point - learning_rate * grad_f(*current_point)\n",
        "        trajectory.append(current_point)\n",
        "\n",
        "    return np.array(trajectory)\n",
        "\n",
        "# Generate level sets\n",
        "x1 = np.linspace(-3, 3, 100)\n",
        "x2 = np.linspace(-3, 3, 100)\n",
        "X1, X2 = np.meshgrid(x1, x2)\n",
        "Z = f(X1, X2)\n",
        "\n",
        "# Plot level sets\n",
        "plt.contour(X1, X2, Z, levels=np.logspace(-3, 3, 20))\n",
        "plt.xlabel('x1')\n",
        "plt.ylabel('x2')\n",
        "plt.title('Level Sets of f(x)')\n",
        "\n",
        "# Perform optimization and plot trajectory\n",
        "initial_point = np.array([-2, -2])  # You can choose a different initial point\n",
        "learning_rate = 0.005\n",
        "num_iterations = 100\n",
        "\n",
        "trajectory = gradient_descent(initial_point, learning_rate, num_iterations)\n",
        "plt.plot(trajectory[:, 0], trajectory[:, 1], marker='o', color='red', label='Optimization Trajectory')\n",
        "plt.legend()\n",
        "\n",
        "plt.show()\n"
      ],
      "metadata": {
        "id": "e5gtw2yX5Ymd",
        "colab": {
          "base_uri": "https://localhost:8080/",
          "height": 541
        },
        "outputId": "54a9c350-bf83-4a60-dbad-5ccbfebf6131"
      },
      "execution_count": 3,
      "outputs": [
        {
          "output_type": "stream",
          "name": "stderr",
          "text": [
            "<ipython-input-3-801607baeca2>:11: RuntimeWarning: overflow encountered in double_scalars\n",
            "  df_dx1 = -2 * (6 + 1 - x1) - 400 * x1 * (x2 - x1**2)\n",
            "<ipython-input-3-801607baeca2>:21: RuntimeWarning: invalid value encountered in subtract\n",
            "  current_point = current_point - learning_rate * grad_f(*current_point)\n"
          ]
        },
        {
          "output_type": "display_data",
          "data": {
            "text/plain": [
              "<Figure size 640x480 with 1 Axes>"
            ],
            "image/png": "[encoded data removed]"
          },
          "metadata": {}
        }
      ]
    },
    {
      "cell_type": "markdown",
      "source": [
        "#Part 4\n",
        "Gradient descent with a constant step size (learning rate) has several shortcomings, and some of the key issues include:\n",
        "\n",
        "Convergence Rate: Using a constant step size may result in slow convergence. A fixed learning rate might be too small, causing the algorithm to take many iterations to reach the minimum, or too large, causing overshooting and oscillations.\n",
        "\n",
        "Sensitivity to Initial Learning Rate: The performance of the algorithm can be sensitive to the choice of the initial learning rate. A learning rate that works well for one problem may not be suitable for another.\n",
        "\n",
        "Difficulty Adapting to Local Geometry: In regions with steep and flat directions, a fixed learning rate may not be ideal. It might be too small for the steep direction, leading to slow progress, and too large for the flat direction, causing oscillations or divergence.\n",
        "\n",
        "To address these issues, an adaptive learning rate strategy can be employed. Here are a few possible solutions:\n",
        "\n",
        "Learning Rate Schedules: Instead of a fixed learning rate, use a schedule that decreases the learning rate over time. Common approaches include time-based decay or using a step-wise decay where the learning rate is reduced after a certain number of iterations.\n",
        "\n",
        "Line Search: At each iteration, perform a line search to determine the optimal step size along the search direction. This involves iteratively adjusting the step size until a suitable decrease in the objective function is achieved.\n",
        "\n",
        "Adaptive Learning Rate Algorithms: Use algorithms that dynamically adjust the learning rate based on the behavior of the objective function. Examples include Adam, Adagrad, RMSprop, and AdaDelta, which adaptively scale the learning rates for different parameters.\n",
        "\n",
        "Second-Order Methods: Incorporate information from the second-order derivatives (Hessian matrix) to guide the optimization process. Newton's method and quasi-Newton methods like BFGS fall into this category. However, these methods can be computationally expensive, especially for high-dimensional problems"
      ],
      "metadata": {
        "id": "8Xyq_pV7VA60"
      }
    }
  ]
}