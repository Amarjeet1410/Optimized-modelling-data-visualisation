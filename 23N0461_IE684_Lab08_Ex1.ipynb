{
  "nbformat": 4,
  "nbformat_minor": 0,
  "metadata": {
    "colab": {
      "provenance": []
    },
    "kernelspec": {
      "name": "python3",
      "display_name": "Python 3"
    },
    "language_info": {
      "name": "python"
    }
  },
  "cells": [
    {
      "cell_type": "markdown",
      "source": [
        "***1. Check the number of classes C and the class label values in wine data. Check\n",
        "if the class labels are set from the set {0, 1, . . . , C − 1} or if they are from the set {1, 2, . . . C}.***"
      ],
      "metadata": {
        "id": "C24HoBBaCBgo"
      }
    },
    {
      "cell_type": "code",
      "execution_count": null,
      "metadata": {
        "colab": {
          "base_uri": "https://localhost:8080/"
        },
        "id": "3kZtwATu9VGy",
        "outputId": "f4ad5fc8-820d-4336-a49f-6c417fc79976"
      },
      "outputs": [
        {
          "output_type": "stream",
          "name": "stdout",
          "text": [
            "Class labels are from the set {0, 1, ..., C-1}\n"
          ]
        }
      ],
      "source": [
        "import numpy as np\n",
        "from sklearn.datasets import load_wine\n",
        "from sklearn.model_selection import train_test_split\n",
        "\n",
        "# Step 1: Load the wine dataset\n",
        "wine_data = load_wine()\n",
        "A = wine_data.data\n",
        "y = wine_data.target\n",
        "\n",
        "# Check the number of classes and class label values\n",
        "C = len(np.unique(y))\n",
        "class_labels_set = set(y)\n",
        "if class_labels_set == set(range(C)):\n",
        "    print(\"Class labels are from the set {0, 1, ..., C-1}\")\n",
        "elif class_labels_set == set(range(1, C+1)):\n",
        "    print(\"Class labels are from the set {1, 2, ..., C}\")\n",
        "else:\n",
        "    print(\"Class labels don't match expected sets.\")"
      ]
    },
    {
      "cell_type": "markdown",
      "source": [
        "***2. When loading the labels into y do the following:\n",
        "• If the class labels are from the set {0, 1, . . . , C − 1} convert classes 0, 2, 3, . . . , C − 1 to −1.\n",
        "• If the class labels are from the set {1, 2, . . . , C} convert classes 2, 3 . . . C to −1.\n",
        "Thus, you will have class labels eventually belonging to the set {+1, −1}.***"
      ],
      "metadata": {
        "id": "3sgV7PdsCMnN"
      }
    },
    {
      "cell_type": "code",
      "source": [
        "# Step 2: Convert class labels to {-1, +1}\n",
        "if class_labels_set == set(range(C)):\n",
        "    y[y % 2 == 0] = -1\n",
        "else:\n",
        "    y[y > 1] = -1\n",
        "\n",
        "print(y)"
      ],
      "metadata": {
        "colab": {
          "base_uri": "https://localhost:8080/"
        },
        "id": "IEJnKrK-A9tZ",
        "outputId": "ab960e42-3663-4831-a744-b64a844c6e27"
      },
      "execution_count": null,
      "outputs": [
        {
          "output_type": "stream",
          "name": "stdout",
          "text": [
            "[-1 -1 -1 -1 -1 -1 -1 -1 -1 -1 -1 -1 -1 -1 -1 -1 -1 -1 -1 -1 -1 -1 -1 -1\n",
            " -1 -1 -1 -1 -1 -1 -1 -1 -1 -1 -1 -1 -1 -1 -1 -1 -1 -1 -1 -1 -1 -1 -1 -1\n",
            " -1 -1 -1 -1 -1 -1 -1 -1 -1 -1 -1  1  1  1  1  1  1  1  1  1  1  1  1  1\n",
            "  1  1  1  1  1  1  1  1  1  1  1  1  1  1  1  1  1  1  1  1  1  1  1  1\n",
            "  1  1  1  1  1  1  1  1  1  1  1  1  1  1  1  1  1  1  1  1  1  1  1  1\n",
            "  1  1  1  1  1  1  1  1  1  1 -1 -1 -1 -1 -1 -1 -1 -1 -1 -1 -1 -1 -1 -1\n",
            " -1 -1 -1 -1 -1 -1 -1 -1 -1 -1 -1 -1 -1 -1 -1 -1 -1 -1 -1 -1 -1 -1 -1 -1\n",
            " -1 -1 -1 -1 -1 -1 -1 -1 -1 -1]\n"
          ]
        }
      ]
    },
    {
      "cell_type": "markdown",
      "source": [
        "***3. Normalize the columns of A matrix such that each columns has entries in range [−1, 1].***"
      ],
      "metadata": {
        "id": "tF8QYDDdCY38"
      }
    },
    {
      "cell_type": "code",
      "source": [
        "# Step 3. Normalize the columns of A matrix such that each columns has entries in range [−1, 1].\n",
        "A_normalized = (2 * (A - A.min(axis=0)) / (A.max(axis=0) - A.min(axis=0))) - 1\n",
        "A_normalized"
      ],
      "metadata": {
        "colab": {
          "base_uri": "https://localhost:8080/"
        },
        "id": "Ws5ok5fsBRjF",
        "outputId": "535aba1d-5d0c-41cc-de7e-db2da7f0df45"
      },
      "execution_count": null,
      "outputs": [
        {
          "output_type": "execute_result",
          "data": {
            "text/plain": [
              "array([[ 0.68421053, -0.61660079,  0.14438503, ..., -0.08943089,\n",
              "         0.94139194,  0.12268188],\n",
              "       [ 0.14210526, -0.58893281, -0.1657754 , ..., -0.07317073,\n",
              "         0.56043956,  0.10128388],\n",
              "       [ 0.12105263, -0.35968379,  0.40106952, ..., -0.10569106,\n",
              "         0.39194139,  0.29386591],\n",
              "       ...,\n",
              "       [ 0.17894737,  0.39920949, -0.03743316, ..., -0.82113821,\n",
              "        -0.78754579, -0.20542083],\n",
              "       [ 0.12631579, -0.2687747 ,  0.0802139 , ..., -0.80487805,\n",
              "        -0.74358974, -0.19828816],\n",
              "       [ 0.63157895,  0.32806324,  0.47593583, ..., -0.78861789,\n",
              "        -0.75824176, -0.59771755]])"
            ]
          },
          "metadata": {},
          "execution_count": 7
        }
      ]
    },
    {
      "cell_type": "markdown",
      "source": [
        "***4. Create an index array of size number of samples. Use this index array to partition the data and labels into\n",
        "train and test splits. In particular, use the first 80% of the indices to create the training data and labels. Use\n",
        "the remaining 20% to create the test data and labels. Store them in the variables train data, train label,\n",
        "test data, test label.***"
      ],
      "metadata": {
        "id": "S5VHjPv6DRjZ"
      }
    },
    {
      "cell_type": "code",
      "source": [
        "# Step 4: Create train and test splits\n",
        "indices = np.arange(len(y))\n",
        "train_indices, test_indices = train_test_split(indices, test_size=0.2, random_state=42)\n",
        "train_data, test_data = A_normalized[train_indices], A_normalized[test_indices]\n",
        "train_label, test_label = y[train_indices], y[test_indices]"
      ],
      "metadata": {
        "id": "h0NFJbYuBX08"
      },
      "execution_count": null,
      "outputs": []
    },
    {
      "cell_type": "markdown",
      "source": [
        "***5. Write a Python function that implements the prediction rule.***"
      ],
      "metadata": {
        "id": "ROzGOCJvDZve"
      }
    },
    {
      "cell_type": "code",
      "source": [
        "# Step 5: Prediction rule function\n",
        "def predict(w, x):\n",
        "    return np.sign(np.dot(x, w))"
      ],
      "metadata": {
        "id": "P79NXOa7BbQR"
      },
      "execution_count": null,
      "outputs": []
    },
    {
      "cell_type": "markdown",
      "source": [
        "***6. Write a Python function that takes as input the model parameter w, data features, and labels and returns the\n",
        "accuracy of the data. (Use the predict function).***"
      ],
      "metadata": {
        "id": "fR7xzhH6DgbF"
      }
    },
    {
      "cell_type": "code",
      "source": [
        "# Step 6: Accuracy calculation function\n",
        "def accuracy(w, x, y):\n",
        "    predictions = predict(w, x)\n",
        "    return np.mean(predictions == y)"
      ],
      "metadata": {
        "id": "e5JVojxCBhI5"
      },
      "execution_count": null,
      "outputs": []
    }
  ]
}