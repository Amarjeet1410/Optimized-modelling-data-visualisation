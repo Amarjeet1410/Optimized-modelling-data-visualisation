{
  "nbformat": 4,
  "nbformat_minor": 0,
  "metadata": {
    "colab": {
      "provenance": []
    },
    "kernelspec": {
      "name": "python3",
      "display_name": "Python 3"
    },
    "language_info": {
      "name": "python"
    }
  },
  "cells": [
    {
      "cell_type": "markdown",
      "source": [
        "***1. Observe that the regularized problem (2) can be written as\n",
        "$\\min_{x} f_{\\lambda}(x) = \\min_{x} \\sum_{i=1}^{N} f_i(x)$\n",
        "Find an appropriate choice of $f_i(x)$ .***"
      ],
      "metadata": {
        "id": "eAKlLm4HiKJs"
      }
    },
    {
      "cell_type": "markdown",
      "source": [
        "We want to minimize the function which can be written as :\n",
        "\n",
        "$\\min_{x} f_{\\lambda}(x) = \\min_{x} \\sum_{i=1}^{N} f_i(x)$\n",
        "\n",
        "where we can define $ f_i(x)$ as\n",
        "\n",
        "$ f_i(x) = \\frac{1}{2} \\ (A_i \\mathbf{x} - y_i)^2 + \\frac{\\lambda}{2N} \\mathbf{x} \\mathbf{x}^T$\n",
        "\n",
        "Here\n",
        "\n",
        "$A_i$ : $i^{th}$ row of matrix A\n",
        "\n",
        "$x$ : vectors x weights of size d X 1\n",
        "\n",
        "$yi$ : $i^{th}$ value of i\n",
        "\n",
        "Now we can calculate gradient $g_i(x) = \\nabla_xf_i(x)$ as :\n",
        "\n",
        "$g_i(x) = (A_i)^T(A_ix - y_i)+ \\frac{\\lambda}{N} x$\n",
        "\n"
      ],
      "metadata": {
        "id": "mdl-4IvMiJRf"
      }
    },
    {
      "cell_type": "code",
      "source": [
        "import numpy as np\n",
        "import timeit"
      ],
      "metadata": {
        "id": "_wf-3jkaHuEF"
      },
      "execution_count": 30,
      "outputs": []
    },
    {
      "cell_type": "code",
      "source": [
        "def evalf(i,A,x,y,n_feat, n, lamb):\n",
        "\n",
        "\n",
        "\n",
        "  f = 0.5*( ( np.matmul(A[i],x) - y[i])**2 ) + 0.5*(lamb/n)*(np.matmul(x.T,x))\n",
        "\n",
        "  return float(f)\n",
        "\n",
        "\n",
        "def evalg(i,A,x,y,n_feat, n, lamb):\n",
        "\n",
        "\n",
        "  dummy = np.dot(A[i],x) - y[i]\n",
        "  g = dummy * (A[i].T).reshape((n_feat,1)) + (lamb/n)*x\n",
        "\n",
        "  return g"
      ],
      "metadata": {
        "id": "XLfVzWQcHuAg"
      },
      "execution_count": 31,
      "outputs": []
    },
    {
      "cell_type": "markdown",
      "source": [
        "***3. Consider the dimension where you observed failure in the previous exercise. Implement the following algorithm\n",
        "(ALG-LAB6) to solve (3):***"
      ],
      "metadata": {
        "id": "faAIZ80A3CAZ"
      }
    },
    {
      "cell_type": "code",
      "source": [
        "np.random.seed(1000)\n",
        "N= 200\n",
        "d = 10000\n",
        "lambda_reg = 0.001\n",
        "eps = np.random.randn(N,1)\n",
        "A = np.random.randn(N,d)\n",
        "xorig = np.ones( (d,1) )\n",
        "y = np.dot(A,xorig) + eps\n",
        "\n",
        "x = np.zeros((d,1))\n",
        "epochs = 20\n",
        "t = 1\n",
        "arr = np.arange(N)\n",
        "\n",
        "\n",
        "start = timeit.default_timer()\n",
        "\n",
        "for epoch in range(epochs):\n",
        "  np.random.shuffle(arr)\n",
        "  for i in np.nditer(arr):\n",
        "    x = x - (1/t)*evalg(i,A,x,y,d,N,lambda_reg)\n",
        "    t = t+1\n",
        "\n",
        "\n",
        "alglab6time = timeit.default_timer() - start\n",
        "x_alglab6 = x\n",
        "\n",
        "\n",
        "print('Results :')\n",
        "print('-------  \\n')\n",
        "\n",
        "print('Time taken :' , alglab6time)\n",
        "print('||Ax*-y||: ', (np.linalg.norm(np.matmul(A,x_alglab6) - y))**2)\n",
        "print('||x*-x_orig||: ', (np.linalg.norm(x_alglab6 - xorig ))**2 )\n"
      ],
      "metadata": {
        "id": "2mpGq5NfHt54",
        "colab": {
          "base_uri": "https://localhost:8080/"
        },
        "outputId": "f77341b9-3e82-4ea7-fc26-9265639ceb02"
      },
      "execution_count": 38,
      "outputs": [
        {
          "output_type": "stream",
          "name": "stdout",
          "text": [
            "Results :\n",
            "-------  \n",
            "\n",
            "Time taken : 0.23395740499836393\n",
            "||Ax*-y||:  8.75839616866273e+133\n",
            "||x*-x_orig||:  1.0128021491719705e+130\n"
          ]
        }
      ]
    },
    {
      "cell_type": "markdown",
      "source": [
        "***4. Fix $\\lambda =0.001$ and repeat the experiment for $10^6$ , $10^8$ and $10^{10}$ epochs and report the time taken for ALG-LAB6, $\\|\\nabla{f_{\\lambda}(x^*)}\\|$, $\\|Ax^*-y\\|^2_2$,$\\|x^*-x_{orig}\\|^2_2$.Explain Your observations***"
      ],
      "metadata": {
        "id": "jeXBgsptG9c9"
      }
    },
    {
      "cell_type": "code",
      "source": [
        "lambda_reg = 0.001\n",
        "epochs_arr = [10**i for i in range(6,10,2)]\n",
        "times_arr =[]\n",
        "x_opt =[]\n",
        "\n",
        "for e in epochs_arr:\n",
        "  x = np.zeros((d,1))\n",
        "\n",
        "  t = 1\n",
        "  arr = np.arange(N)\n",
        "  start = timeit.default_timer()\n",
        "  for epoch in range(e):\n",
        "    np.random.shuffle(arr)\n",
        "    for i in np.nditer(arr):\n",
        "      x = x - (1/t)*evalg(i,A,x,y,d,N,lambda_reg)\n",
        "      t = t+1\n",
        "\n",
        "\n",
        "  alglab6time = timeit.default_timer() - start\n",
        "  times_arr.append(alglab6time)\n",
        "  x_opt.append(x)"
      ],
      "metadata": {
        "colab": {
          "base_uri": "https://localhost:8080/",
          "height": 211
        },
        "id": "zQxlJyluibwO",
        "outputId": "27403201-4037-4c70-a0aa-f3abf7a09859"
      },
      "execution_count": 41,
      "outputs": [
        {
          "output_type": "error",
          "ename": "KeyboardInterrupt",
          "evalue": "",
          "traceback": [
            "\u001b[0;31m---------------------------------------------------------------------------\u001b[0m",
            "\u001b[0;31mKeyboardInterrupt\u001b[0m                         Traceback (most recent call last)",
            "\u001b[0;32m<ipython-input-41-e42d0b7e35ed>\u001b[0m in \u001b[0;36m<cell line: 6>\u001b[0;34m()\u001b[0m\n\u001b[1;32m     13\u001b[0m     \u001b[0mnp\u001b[0m\u001b[0;34m.\u001b[0m\u001b[0mrandom\u001b[0m\u001b[0;34m.\u001b[0m\u001b[0mshuffle\u001b[0m\u001b[0;34m(\u001b[0m\u001b[0marr\u001b[0m\u001b[0;34m)\u001b[0m\u001b[0;34m\u001b[0m\u001b[0;34m\u001b[0m\u001b[0m\n\u001b[1;32m     14\u001b[0m     \u001b[0;32mfor\u001b[0m \u001b[0mi\u001b[0m \u001b[0;32min\u001b[0m \u001b[0mnp\u001b[0m\u001b[0;34m.\u001b[0m\u001b[0mnditer\u001b[0m\u001b[0;34m(\u001b[0m\u001b[0marr\u001b[0m\u001b[0;34m)\u001b[0m\u001b[0;34m:\u001b[0m\u001b[0;34m\u001b[0m\u001b[0;34m\u001b[0m\u001b[0m\n\u001b[0;32m---> 15\u001b[0;31m       \u001b[0mx\u001b[0m \u001b[0;34m=\u001b[0m \u001b[0mx\u001b[0m \u001b[0;34m-\u001b[0m \u001b[0;34m(\u001b[0m\u001b[0;36m1\u001b[0m\u001b[0;34m/\u001b[0m\u001b[0mt\u001b[0m\u001b[0;34m)\u001b[0m\u001b[0;34m*\u001b[0m\u001b[0mevalg\u001b[0m\u001b[0;34m(\u001b[0m\u001b[0mi\u001b[0m\u001b[0;34m,\u001b[0m\u001b[0mA\u001b[0m\u001b[0;34m,\u001b[0m\u001b[0mx\u001b[0m\u001b[0;34m,\u001b[0m\u001b[0my\u001b[0m\u001b[0;34m,\u001b[0m\u001b[0md\u001b[0m\u001b[0;34m,\u001b[0m\u001b[0mN\u001b[0m\u001b[0;34m,\u001b[0m\u001b[0mlambda_reg\u001b[0m\u001b[0;34m)\u001b[0m\u001b[0;34m\u001b[0m\u001b[0;34m\u001b[0m\u001b[0m\n\u001b[0m\u001b[1;32m     16\u001b[0m       \u001b[0mt\u001b[0m \u001b[0;34m=\u001b[0m \u001b[0mt\u001b[0m\u001b[0;34m+\u001b[0m\u001b[0;36m1\u001b[0m\u001b[0;34m\u001b[0m\u001b[0;34m\u001b[0m\u001b[0m\n\u001b[1;32m     17\u001b[0m \u001b[0;34m\u001b[0m\u001b[0m\n",
            "\u001b[0;31mKeyboardInterrupt\u001b[0m: "
          ]
        }
      ]
    },
    {
      "cell_type": "markdown",
      "source": [
        "***5. Fix $10^9$ and try $\\lambda$ $\\epsilon$ {1000,100,10,1,0.1,$10^{-2}$,$10^{-3} $} and report the time taken for ALG-LAB6  $\\|\\nabla{f_{\\lambda}(x^*)}\\|$, $\\|Ax^*-y\\|^2_2$,$\\|x^*-x_{orig}\\|^2_2$.Explain Your Observations.***"
      ],
      "metadata": {
        "id": "EzJOPIVGJMXM"
      }
    },
    {
      "cell_type": "code",
      "source": [
        "lambda_reg_arr = [1000, 100 , 10, 1, 0.1, 10e-2 , 10e-3]\n",
        "epochs = 10**9\n",
        "times_arr =[]\n",
        "x_opt =[]\n",
        "\n",
        "\n",
        "for lam in lambda_reg_arr:\n",
        "  x = np.zeros((d,1))\n",
        "  t = 1\n",
        "  arr = np.arange(N)\n",
        "  start = timeit.default_timer()\n",
        "  for epoch in range(epochs):\n",
        "    np.random.shuffle(arr)\n",
        "    for i in np.nditer(arr):\n",
        "      x = x - (1/t)*evalg(i,A,x,y,d,N,lam)\n",
        "      t = t+1\n",
        "\n",
        "\n",
        "  alglab6time = timeit.default_timer() - start\n",
        "  times_arr.append(alglab6time)\n",
        "  x_opt.append(x)"
      ],
      "metadata": {
        "colab": {
          "base_uri": "https://localhost:8080/",
          "height": 280
        },
        "id": "CvmroZ-Zkq2N",
        "outputId": "e4e141cf-8932-4d76-8568-cdb3429fcd34"
      },
      "execution_count": 40,
      "outputs": [
        {
          "output_type": "stream",
          "name": "stderr",
          "text": [
            "<ipython-input-31-f7e81f9e800d>:14: RuntimeWarning: overflow encountered in multiply\n",
            "  g = dummy * (A[i].T).reshape((n_feat,1)) + (lamb/n)*x\n",
            "<ipython-input-40-b3098c0022f3>:15: RuntimeWarning: invalid value encountered in subtract\n",
            "  x = x - (1/t)*evalg(i,A,x,y,d,N,lam)\n"
          ]
        },
        {
          "output_type": "error",
          "ename": "KeyboardInterrupt",
          "evalue": "",
          "traceback": [
            "\u001b[0;31m---------------------------------------------------------------------------\u001b[0m",
            "\u001b[0;31mKeyboardInterrupt\u001b[0m                         Traceback (most recent call last)",
            "\u001b[0;32m<ipython-input-40-b3098c0022f3>\u001b[0m in \u001b[0;36m<cell line: 7>\u001b[0;34m()\u001b[0m\n\u001b[1;32m     13\u001b[0m     \u001b[0mnp\u001b[0m\u001b[0;34m.\u001b[0m\u001b[0mrandom\u001b[0m\u001b[0;34m.\u001b[0m\u001b[0mshuffle\u001b[0m\u001b[0;34m(\u001b[0m\u001b[0marr\u001b[0m\u001b[0;34m)\u001b[0m\u001b[0;34m\u001b[0m\u001b[0;34m\u001b[0m\u001b[0m\n\u001b[1;32m     14\u001b[0m     \u001b[0;32mfor\u001b[0m \u001b[0mi\u001b[0m \u001b[0;32min\u001b[0m \u001b[0mnp\u001b[0m\u001b[0;34m.\u001b[0m\u001b[0mnditer\u001b[0m\u001b[0;34m(\u001b[0m\u001b[0marr\u001b[0m\u001b[0;34m)\u001b[0m\u001b[0;34m:\u001b[0m\u001b[0;34m\u001b[0m\u001b[0;34m\u001b[0m\u001b[0m\n\u001b[0;32m---> 15\u001b[0;31m       \u001b[0mx\u001b[0m \u001b[0;34m=\u001b[0m \u001b[0mx\u001b[0m \u001b[0;34m-\u001b[0m \u001b[0;34m(\u001b[0m\u001b[0;36m1\u001b[0m\u001b[0;34m/\u001b[0m\u001b[0mt\u001b[0m\u001b[0;34m)\u001b[0m\u001b[0;34m*\u001b[0m\u001b[0mevalg\u001b[0m\u001b[0;34m(\u001b[0m\u001b[0mi\u001b[0m\u001b[0;34m,\u001b[0m\u001b[0mA\u001b[0m\u001b[0;34m,\u001b[0m\u001b[0mx\u001b[0m\u001b[0;34m,\u001b[0m\u001b[0my\u001b[0m\u001b[0;34m,\u001b[0m\u001b[0md\u001b[0m\u001b[0;34m,\u001b[0m\u001b[0mN\u001b[0m\u001b[0;34m,\u001b[0m\u001b[0mlam\u001b[0m\u001b[0;34m)\u001b[0m\u001b[0;34m\u001b[0m\u001b[0;34m\u001b[0m\u001b[0m\n\u001b[0m\u001b[1;32m     16\u001b[0m       \u001b[0mt\u001b[0m \u001b[0;34m=\u001b[0m \u001b[0mt\u001b[0m\u001b[0;34m+\u001b[0m\u001b[0;36m1\u001b[0m\u001b[0;34m\u001b[0m\u001b[0;34m\u001b[0m\u001b[0m\n\u001b[1;32m     17\u001b[0m       \u001b[0;32mif\u001b[0m \u001b[0mt\u001b[0m \u001b[0;34m>\u001b[0m\u001b[0;36m1e4\u001b[0m \u001b[0;34m:\u001b[0m\u001b[0;34m\u001b[0m\u001b[0;34m\u001b[0m\u001b[0m\n",
            "\u001b[0;31mKeyboardInterrupt\u001b[0m: "
          ]
        }
      ]
    },
    {
      "cell_type": "code",
      "source": [],
      "metadata": {
        "id": "WbFCuAqvlpl3"
      },
      "execution_count": null,
      "outputs": []
    }
  ]
}