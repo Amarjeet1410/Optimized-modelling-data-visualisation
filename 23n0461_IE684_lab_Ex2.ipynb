{
  "nbformat": 4,
  "nbformat_minor": 0,
  "metadata": {
    "colab": {
      "provenance": []
    },
    "kernelspec": {
      "name": "python3",
      "display_name": "Python 3"
    },
    "language_info": {
      "name": "python"
    }
  },
  "cells": [
    {
      "cell_type": "code",
      "execution_count": 2,
      "metadata": {
        "colab": {
          "base_uri": "https://localhost:8080/"
        },
        "id": "hYB3maRVvpMw",
        "outputId": "a05bcf0e-4c00-44d2-8160-db63a2f88c65"
      },
      "outputs": [
        {
          "output_type": "stream",
          "name": "stdout",
          "text": [
            "For epsilon = 0.1, ex = 1.4210854715202004e-12, f(ex) = 2.23606797749979\n",
            "For epsilon = 0.01, ex = -1.9895196601282805e-11, f(ex) = 2.23606797749979\n",
            "For epsilon = 0.001, ex = -2.3305801732931286e-10, f(ex) = 2.23606797749979\n",
            "For epsilon = 0.0001, ex = 3.319655661471188e-09, f(ex) = 2.23606797749979\n",
            "For epsilon = 0.00001, ex = 3.1741365091875196e-08, f(ex) = 2.23606797749979\n"
          ]
        }
      ],
      "source": [
        "import numpy as np\n",
        "\n",
        "def objective_function(x):\n",
        "    return np.sqrt(x**2 + 5)\n",
        "\n",
        "def zero_order_oracle_optimization(S, L, epsilon):\n",
        "    grid_resolution = 2 * epsilon / L\n",
        "    X = np.arange(S[0], S[1] + grid_resolution, grid_resolution)\n",
        "    f_values = [objective_function(x) for x in X]\n",
        "    ex = X[np.argmin(f_values)]\n",
        "    return ex, f_values\n",
        "\n",
        "# Constants\n",
        "A = 1 # Replace with the last digit of your roll number\n",
        "\n",
        "# Implementing for different epsilon values\n",
        "#\n",
        "\n",
        "\n",
        "S = [-A / 10**(-2), A / 10**(2)]\n",
        "ex, f_values = zero_order_oracle_optimization(S, 1, 0.1)\n",
        "print(f\"For epsilon = 0.1, ex = {ex}, f(ex) = {objective_function(ex)}\")\n",
        "ex, f_values = zero_order_oracle_optimization(S, 1, 0.01)\n",
        "print(f\"For epsilon = 0.01, ex = {ex}, f(ex) = {objective_function(ex)}\")\n",
        "ex, f_values = zero_order_oracle_optimization(S, 1, 0.001)\n",
        "print(f\"For epsilon = 0.001, ex = {ex}, f(ex) = {objective_function(ex)}\")\n",
        "ex, f_values = zero_order_oracle_optimization(S, 1, 0.0001)\n",
        "print(f\"For epsilon = 0.0001, ex = {ex}, f(ex) = {objective_function(ex)}\")\n",
        "ex, f_values = zero_order_oracle_optimization(S, 1, 1e-5)\n",
        "print(f\"For epsilon = 0.00001, ex = {ex}, f(ex) = {objective_function(ex)}\")\n",
        "\n",
        "\n"
      ]
    },
    {
      "cell_type": "code",
      "source": [
        "A=6\n",
        "S = [-A / 10**(-2), A / 10**(2)]\n",
        "X = np.arange(S[0], S[1] + 0.001, 0.001)\n",
        "len(X)\n",
        "\n"
      ],
      "metadata": {
        "colab": {
          "base_uri": "https://localhost:8080/"
        },
        "id": "GUZ5jKhOJByB",
        "outputId": "11bdb2fc-edf7-4437-8d62-c617ad424b4f"
      },
      "execution_count": 3,
      "outputs": [
        {
          "output_type": "execute_result",
          "data": {
            "text/plain": [
              "600061"
            ]
          },
          "metadata": {},
          "execution_count": 3
        }
      ]
    }
  ]
}